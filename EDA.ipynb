{
 "cells": [
  {
   "cell_type": "markdown",
   "metadata": {},
   "source": [
    "##check\n",
    "1.  % with NA that are fraud? do we need to handle NA differenently?  YES  \n",
    "2.  model evaluations:  \n",
    "    a.  confusion matrix --> profie curve  \n",
    "    b.  feature importance   \n",
    "3.  other potentially useful features?\n",
    "4.  scale the data?\n",
    "5.  test out different methods\n",
    "6. set up hyper parameter search overnight"
   ]
  },
  {
   "cell_type": "code",
   "execution_count": 7,
   "metadata": {
    "collapsed": false
   },
   "outputs": [],
   "source": [
    "import pandas as pd\n",
    "import numpy as np\n",
    "import matplotlib.pyplot as plt\n",
    "import json\n",
    "\n",
    "from sklearn.ensemble import RandomForestClassifier\n",
    "\n",
    "%matplotlib inline"
   ]
  },
  {
   "cell_type": "markdown",
   "metadata": {},
   "source": [
    "## questions:\n",
    "1. lattitude, longitude: have high feature importance as continuous variable, but many fraud case have missing value;\n",
    "2.  sales_duration vs. sales_duration2: data leakage?\n"
   ]
  },
  {
   "cell_type": "code",
   "execution_count": 8,
   "metadata": {
    "collapsed": false
   },
   "outputs": [
    {
     "name": "stdout",
     "output_type": "stream",
     "text": [
      "loanData.csv   \u001b[31mtest_new.json\u001b[m\u001b[m  \u001b[31mtrain_new.json\u001b[m\u001b[m\r\n"
     ]
    }
   ],
   "source": [
    "! ls ../data"
   ]
  },
  {
   "cell_type": "code",
   "execution_count": 9,
   "metadata": {
    "collapsed": false
   },
   "outputs": [],
   "source": [
    "# Reading the train set as a list of dictionaries.\n",
    "with open('../data/train_new.json') as data_file:    \n",
    "    train_data = json.load(data_file)"
   ]
  },
  {
   "cell_type": "code",
   "execution_count": 11,
   "metadata": {
    "collapsed": false
   },
   "outputs": [],
   "source": [
    "# Reading the train/test data as data frames.\n",
    "train_df = pd.read_json('../data/train_new.json')\n",
    "test_df = pd.read_json('../data/test_new.json')"
   ]
  },
  {
   "cell_type": "code",
   "execution_count": 305,
   "metadata": {
    "collapsed": false
   },
   "outputs": [
    {
     "data": {
      "text/plain": [
       "acct_type              object\n",
       "approx_payout_date      int64\n",
       "body_length             int64\n",
       "channels                int64\n",
       "country                object\n",
       "currency               object\n",
       "delivery_method       float64\n",
       "description            object\n",
       "email_domain           object\n",
       "event_created           int64\n",
       "event_end               int64\n",
       "event_published       float64\n",
       "event_start             int64\n",
       "fb_published            int64\n",
       "gts                   float64\n",
       "has_analytics           int64\n",
       "has_header            float64\n",
       "has_logo                int64\n",
       "listed                 object\n",
       "name                   object\n",
       "name_length             int64\n",
       "num_order               int64\n",
       "num_payouts             int64\n",
       "object_id               int64\n",
       "org_desc               object\n",
       "org_facebook          float64\n",
       "org_name               object\n",
       "org_twitter           float64\n",
       "payee_name             object\n",
       "payout_type            object\n",
       "previous_payouts       object\n",
       "sale_duration         float64\n",
       "sale_duration2          int64\n",
       "show_map                int64\n",
       "ticket_types           object\n",
       "user_age                int64\n",
       "user_created            int64\n",
       "user_type               int64\n",
       "venue_address          object\n",
       "venue_country          object\n",
       "venue_latitude        float64\n",
       "venue_longitude       float64\n",
       "venue_name             object\n",
       "venue_state            object\n",
       "dtype: object"
      ]
     },
     "execution_count": 305,
     "metadata": {},
     "output_type": "execute_result"
    }
   ],
   "source": [
    "train_df.dtypes"
   ]
  },
  {
   "cell_type": "code",
   "execution_count": 12,
   "metadata": {
    "collapsed": false
   },
   "outputs": [],
   "source": [
    "# Copying the train data into another dataframe.\n",
    "train_df2 = train_df.copy()"
   ]
  },
  {
   "cell_type": "code",
   "execution_count": 35,
   "metadata": {
    "collapsed": false
   },
   "outputs": [
    {
     "name": "stdout",
     "output_type": "stream",
     "text": [
      "acct_type 12\n",
      "approx_payout_date 9655\n",
      "body_length 6595\n",
      "channels 11\n",
      "country 73\n",
      "currency 7\n",
      "delivery_method 4\n",
      "description 13095\n",
      "email_domain 5772\n",
      "event_created 14335\n",
      "event_end 9655\n",
      "event_published 14182\n",
      "event_start 9274\n",
      "fb_published 2\n",
      "gts 9680\n",
      "has_analytics 2\n",
      "has_header 3\n",
      "has_logo 2\n",
      "listed 2\n",
      "name 13940\n",
      "name_length 185\n",
      "num_order 397\n",
      "num_payouts 564\n",
      "object_id 14337\n",
      "org_desc 5845\n",
      "org_facebook 82\n",
      "org_name 9501\n",
      "org_twitter 24\n",
      "payee_name 2481\n",
      "payout_type 3\n",
      "sale_duration 376\n",
      "sale_duration2 399\n",
      "show_map 2\n",
      "user_age 1597\n",
      "user_created 10254\n",
      "user_type 6\n",
      "venue_address 10142\n",
      "venue_country 70\n",
      "venue_latitude 10526\n",
      "venue_longitude 10515\n",
      "venue_name 9788\n",
      "venue_state 443\n"
     ]
    }
   ],
   "source": [
    "# find out the numbers of unique values for each feature\n",
    "with open('test_tmp.csv', 'w') as o_fh:\n",
    "    for i, name in enumerate(train_df.columns):\n",
    "        if name != 'previous_payouts'and name != 'ticket_types':\n",
    "            print name, len(train_df2.iloc[:,i].unique())\n",
    "            o_fh.write(','.join([str(t) for t in [name, len(train_df2.iloc[:,i].unique()), \"\\n\"]]))\n",
    "            "
   ]
  },
  {
   "cell_type": "code",
   "execution_count": 14,
   "metadata": {
    "collapsed": false
   },
   "outputs": [
    {
     "name": "stdout",
     "output_type": "stream",
     "text": [
      "acct_type 10\n",
      "approx_payout_date 3148\n",
      "body_length 2653\n",
      "channels 11\n",
      "country 56\n",
      "currency 6\n",
      "delivery_method 4\n",
      "description 3339\n",
      "email_domain 1892\n",
      "event_created 3585\n",
      "event_end 3148\n",
      "event_published 3540\n",
      "event_start 3099\n",
      "fb_published 2\n",
      "gts 2844\n",
      "has_analytics 2\n",
      "has_header 3\n",
      "has_logo 2\n",
      "listed 2\n",
      "name 3543\n",
      "name_length 145\n",
      "num_order 225\n",
      "num_payouts 275\n",
      "object_id 3585\n",
      "org_desc 1715\n",
      "org_facebook 68\n",
      "org_name 2833\n",
      "org_twitter 22\n",
      "payee_name 725\n",
      "payout_type 3\n",
      "sale_duration 261\n",
      "sale_duration2 275\n",
      "show_map 2\n",
      "user_age 1105\n",
      "user_created 3075\n",
      "user_type 5\n",
      "venue_address 2780\n",
      "venue_country 34\n",
      "venue_latitude 2911\n",
      "venue_longitude 2912\n",
      "venue_name 2627\n",
      "venue_state 246\n"
     ]
    }
   ],
   "source": [
    "# find out the numbers of unique values for each feature\n",
    "for i, name in enumerate(test_df.columns):\n",
    "    if name != 'previous_payouts'and name != 'ticket_types':\n",
    "        print name, len(test_df.iloc[:,i].unique())"
   ]
  },
  {
   "cell_type": "code",
   "execution_count": 32,
   "metadata": {
    "collapsed": false
   },
   "outputs": [
    {
     "data": {
      "text/html": [
       "<div style=\"max-height:1000px;max-width:1500px;overflow:auto;\">\n",
       "<table border=\"1\" class=\"dataframe\">\n",
       "  <thead>\n",
       "    <tr style=\"text-align: right;\">\n",
       "      <th></th>\n",
       "      <th>0</th>\n",
       "      <th>1</th>\n",
       "    </tr>\n",
       "  </thead>\n",
       "  <tbody>\n",
       "    <tr>\n",
       "      <th>acct_type</th>\n",
       "      <td>fraudster_event</td>\n",
       "      <td>premium</td>\n",
       "    </tr>\n",
       "    <tr>\n",
       "      <th>approx_payout_date</th>\n",
       "      <td>1266062400</td>\n",
       "      <td>1296720000</td>\n",
       "    </tr>\n",
       "    <tr>\n",
       "      <th>body_length</th>\n",
       "      <td>3852</td>\n",
       "      <td>3499</td>\n",
       "    </tr>\n",
       "    <tr>\n",
       "      <th>channels</th>\n",
       "      <td>5</td>\n",
       "      <td>0</td>\n",
       "    </tr>\n",
       "    <tr>\n",
       "      <th>country</th>\n",
       "      <td>US</td>\n",
       "      <td>US</td>\n",
       "    </tr>\n",
       "    <tr>\n",
       "      <th>currency</th>\n",
       "      <td>USD</td>\n",
       "      <td>USD</td>\n",
       "    </tr>\n",
       "    <tr>\n",
       "      <th>delivery_method</th>\n",
       "      <td>0</td>\n",
       "      <td>1</td>\n",
       "    </tr>\n",
       "    <tr>\n",
       "      <th>description</th>\n",
       "      <td>&lt;p&gt;&lt;a href=\"http://s432.photobucket.com/albums...</td>\n",
       "      <td>&lt;p&gt;Join us for a quick, one-night, community-b...</td>\n",
       "    </tr>\n",
       "    <tr>\n",
       "      <th>email_domain</th>\n",
       "      <td>gmail.com</td>\n",
       "      <td>ruf.org</td>\n",
       "    </tr>\n",
       "    <tr>\n",
       "      <th>event_created</th>\n",
       "      <td>1262739706</td>\n",
       "      <td>1293832670</td>\n",
       "    </tr>\n",
       "    <tr>\n",
       "      <th>event_end</th>\n",
       "      <td>1265630400</td>\n",
       "      <td>1296288000</td>\n",
       "    </tr>\n",
       "    <tr>\n",
       "      <th>event_published</th>\n",
       "      <td>1.26311e+09</td>\n",
       "      <td>1.293833e+09</td>\n",
       "    </tr>\n",
       "    <tr>\n",
       "      <th>event_start</th>\n",
       "      <td>1265594400</td>\n",
       "      <td>1296255600</td>\n",
       "    </tr>\n",
       "    <tr>\n",
       "      <th>fb_published</th>\n",
       "      <td>0</td>\n",
       "      <td>0</td>\n",
       "    </tr>\n",
       "    <tr>\n",
       "      <th>gts</th>\n",
       "      <td>0</td>\n",
       "      <td>868.02</td>\n",
       "    </tr>\n",
       "    <tr>\n",
       "      <th>has_analytics</th>\n",
       "      <td>0</td>\n",
       "      <td>0</td>\n",
       "    </tr>\n",
       "    <tr>\n",
       "      <th>has_header</th>\n",
       "      <td>1</td>\n",
       "      <td>0</td>\n",
       "    </tr>\n",
       "    <tr>\n",
       "      <th>has_logo</th>\n",
       "      <td>0</td>\n",
       "      <td>1</td>\n",
       "    </tr>\n",
       "    <tr>\n",
       "      <th>listed</th>\n",
       "      <td>y</td>\n",
       "      <td>n</td>\n",
       "    </tr>\n",
       "    <tr>\n",
       "      <th>name</th>\n",
       "      <td>99 HOUR \"NO SLEEP\" SUPER BOWL CELEBRITY WEEKEN...</td>\n",
       "      <td>Winthrop RUF Winter Getaway</td>\n",
       "    </tr>\n",
       "    <tr>\n",
       "      <th>name_length</th>\n",
       "      <td>60</td>\n",
       "      <td>27</td>\n",
       "    </tr>\n",
       "    <tr>\n",
       "      <th>num_order</th>\n",
       "      <td>0</td>\n",
       "      <td>23</td>\n",
       "    </tr>\n",
       "    <tr>\n",
       "      <th>num_payouts</th>\n",
       "      <td>0</td>\n",
       "      <td>1</td>\n",
       "    </tr>\n",
       "    <tr>\n",
       "      <th>object_id</th>\n",
       "      <td>527017</td>\n",
       "      <td>786878</td>\n",
       "    </tr>\n",
       "    <tr>\n",
       "      <th>org_desc</th>\n",
       "      <td></td>\n",
       "      <td>&lt;p&gt;Since 1987, RUF has ministered to students ...</td>\n",
       "    </tr>\n",
       "    <tr>\n",
       "      <th>org_facebook</th>\n",
       "      <td>0</td>\n",
       "      <td>0</td>\n",
       "    </tr>\n",
       "    <tr>\n",
       "      <th>org_name</th>\n",
       "      <td>Party Starz Ent &amp; Diverse Int'l Group</td>\n",
       "      <td>RUF at Winthrop University</td>\n",
       "    </tr>\n",
       "    <tr>\n",
       "      <th>org_twitter</th>\n",
       "      <td>0</td>\n",
       "      <td>12</td>\n",
       "    </tr>\n",
       "    <tr>\n",
       "      <th>payee_name</th>\n",
       "      <td></td>\n",
       "      <td>RUF</td>\n",
       "    </tr>\n",
       "    <tr>\n",
       "      <th>payout_type</th>\n",
       "      <td></td>\n",
       "      <td>CHECK</td>\n",
       "    </tr>\n",
       "    <tr>\n",
       "      <th>previous_payouts</th>\n",
       "      <td>[]</td>\n",
       "      <td>[{u'name': u'RUF', u'created': u'2010-10-01 01...</td>\n",
       "    </tr>\n",
       "    <tr>\n",
       "      <th>sale_duration</th>\n",
       "      <td>29</td>\n",
       "      <td>28</td>\n",
       "    </tr>\n",
       "    <tr>\n",
       "      <th>sale_duration2</th>\n",
       "      <td>33</td>\n",
       "      <td>28</td>\n",
       "    </tr>\n",
       "    <tr>\n",
       "      <th>show_map</th>\n",
       "      <td>1</td>\n",
       "      <td>0</td>\n",
       "    </tr>\n",
       "    <tr>\n",
       "      <th>ticket_types</th>\n",
       "      <td>[{u'event_id': 527017, u'cost': 25.0, u'availa...</td>\n",
       "      <td>[{u'event_id': 786878, u'cost': 35.0, u'availa...</td>\n",
       "    </tr>\n",
       "    <tr>\n",
       "      <th>user_age</th>\n",
       "      <td>36</td>\n",
       "      <td>149</td>\n",
       "    </tr>\n",
       "    <tr>\n",
       "      <th>user_created</th>\n",
       "      <td>1259613950</td>\n",
       "      <td>1280942776</td>\n",
       "    </tr>\n",
       "    <tr>\n",
       "      <th>user_type</th>\n",
       "      <td>1</td>\n",
       "      <td>3</td>\n",
       "    </tr>\n",
       "    <tr>\n",
       "      <th>venue_address</th>\n",
       "      <td>717 Washington Avenue</td>\n",
       "      <td></td>\n",
       "    </tr>\n",
       "    <tr>\n",
       "      <th>venue_country</th>\n",
       "      <td>US</td>\n",
       "      <td>US</td>\n",
       "    </tr>\n",
       "    <tr>\n",
       "      <th>venue_latitude</th>\n",
       "      <td>25.77747</td>\n",
       "      <td>32.77657</td>\n",
       "    </tr>\n",
       "    <tr>\n",
       "      <th>venue_longitude</th>\n",
       "      <td>-80.13343</td>\n",
       "      <td>-79.93092</td>\n",
       "    </tr>\n",
       "    <tr>\n",
       "      <th>venue_name</th>\n",
       "      <td>INK Nightclub - South Beach</td>\n",
       "      <td>The Charleston, SC area</td>\n",
       "    </tr>\n",
       "    <tr>\n",
       "      <th>venue_state</th>\n",
       "      <td>FL</td>\n",
       "      <td>SC</td>\n",
       "    </tr>\n",
       "  </tbody>\n",
       "</table>\n",
       "</div>"
      ],
      "text/plain": [
       "                                                                    0  \\\n",
       "acct_type                                             fraudster_event   \n",
       "approx_payout_date                                         1266062400   \n",
       "body_length                                                      3852   \n",
       "channels                                                            5   \n",
       "country                                                            US   \n",
       "currency                                                          USD   \n",
       "delivery_method                                                     0   \n",
       "description         <p><a href=\"http://s432.photobucket.com/albums...   \n",
       "email_domain                                                gmail.com   \n",
       "event_created                                              1262739706   \n",
       "event_end                                                  1265630400   \n",
       "event_published                                           1.26311e+09   \n",
       "event_start                                                1265594400   \n",
       "fb_published                                                        0   \n",
       "gts                                                                 0   \n",
       "has_analytics                                                       0   \n",
       "has_header                                                          1   \n",
       "has_logo                                                            0   \n",
       "listed                                                              y   \n",
       "name                99 HOUR \"NO SLEEP\" SUPER BOWL CELEBRITY WEEKEN...   \n",
       "name_length                                                        60   \n",
       "num_order                                                           0   \n",
       "num_payouts                                                         0   \n",
       "object_id                                                      527017   \n",
       "org_desc                                                                \n",
       "org_facebook                                                        0   \n",
       "org_name                        Party Starz Ent & Diverse Int'l Group   \n",
       "org_twitter                                                         0   \n",
       "payee_name                                                              \n",
       "payout_type                                                             \n",
       "previous_payouts                                                   []   \n",
       "sale_duration                                                      29   \n",
       "sale_duration2                                                     33   \n",
       "show_map                                                            1   \n",
       "ticket_types        [{u'event_id': 527017, u'cost': 25.0, u'availa...   \n",
       "user_age                                                           36   \n",
       "user_created                                               1259613950   \n",
       "user_type                                                           1   \n",
       "venue_address                                   717 Washington Avenue   \n",
       "venue_country                                                      US   \n",
       "venue_latitude                                               25.77747   \n",
       "venue_longitude                                             -80.13343   \n",
       "venue_name                                INK Nightclub - South Beach   \n",
       "venue_state                                                        FL   \n",
       "\n",
       "                                                                    1  \n",
       "acct_type                                                     premium  \n",
       "approx_payout_date                                         1296720000  \n",
       "body_length                                                      3499  \n",
       "channels                                                            0  \n",
       "country                                                            US  \n",
       "currency                                                          USD  \n",
       "delivery_method                                                     1  \n",
       "description         <p>Join us for a quick, one-night, community-b...  \n",
       "email_domain                                                  ruf.org  \n",
       "event_created                                              1293832670  \n",
       "event_end                                                  1296288000  \n",
       "event_published                                          1.293833e+09  \n",
       "event_start                                                1296255600  \n",
       "fb_published                                                        0  \n",
       "gts                                                            868.02  \n",
       "has_analytics                                                       0  \n",
       "has_header                                                          0  \n",
       "has_logo                                                            1  \n",
       "listed                                                              n  \n",
       "name                                      Winthrop RUF Winter Getaway  \n",
       "name_length                                                        27  \n",
       "num_order                                                          23  \n",
       "num_payouts                                                         1  \n",
       "object_id                                                      786878  \n",
       "org_desc            <p>Since 1987, RUF has ministered to students ...  \n",
       "org_facebook                                                        0  \n",
       "org_name                                   RUF at Winthrop University  \n",
       "org_twitter                                                        12  \n",
       "payee_name                                                        RUF  \n",
       "payout_type                                                     CHECK  \n",
       "previous_payouts    [{u'name': u'RUF', u'created': u'2010-10-01 01...  \n",
       "sale_duration                                                      28  \n",
       "sale_duration2                                                     28  \n",
       "show_map                                                            0  \n",
       "ticket_types        [{u'event_id': 786878, u'cost': 35.0, u'availa...  \n",
       "user_age                                                          149  \n",
       "user_created                                               1280942776  \n",
       "user_type                                                           3  \n",
       "venue_address                                                          \n",
       "venue_country                                                      US  \n",
       "venue_latitude                                               32.77657  \n",
       "venue_longitude                                             -79.93092  \n",
       "venue_name                                    The Charleston, SC area  \n",
       "venue_state                                                        SC  "
      ]
     },
     "execution_count": 32,
     "metadata": {},
     "output_type": "execute_result"
    }
   ],
   "source": [
    "train_df.head(2).T"
   ]
  },
  {
   "cell_type": "code",
   "execution_count": 15,
   "metadata": {
    "collapsed": true
   },
   "outputs": [],
   "source": [
    "train_df2['fraud'] = train_df2.acct_type.apply(lambda x: x[0] == 'f')  "
   ]
  },
  {
   "cell_type": "code",
   "execution_count": 108,
   "metadata": {
    "collapsed": false
   },
   "outputs": [
    {
     "name": "stdout",
     "output_type": "stream",
     "text": [
      "summary stats:\n",
      "number events: 14337, 9.02% fraud\n",
      "by subgroup:\n",
      "   number of org_name: 9501 5.59% had fraud\n",
      "   number of venue_name: 9787 6.15% had fraud\n",
      "   number of payee_name: 2481 1.09% had fraud\n",
      "   number of country: 72 65.28% had fraud\n",
      "   number of email_domain: 5772 2.32% had fraud\n",
      "   number of name: 13940 8.11% had fraud\n",
      "   number of venue_country: 69 49.28% had fraud\n"
     ]
    }
   ],
   "source": [
    "cond_fraud = train_df2['fraud'] \n",
    "n_events = train_df2.shape[0]\n",
    "n_frauds = train_df2[cond_fraud].shape[0]\n",
    "\n",
    "cat_cols = ['org_name', 'venue_name', 'payee_name', 'country',\\\n",
    "           'email_domain', 'name', 'venue_country' ]\n",
    "print 'summary stats:'\n",
    "print 'number events: %i, %.2f%% fraud' % (train_df2.shape[0],  100.0 * n_frauds/n_events)\n",
    "print \"by subgroup:\"\n",
    "for v in cat_cols:\n",
    "    n = train_df2[v].nunique()\n",
    "    n_w_fraud = train_df2[cond_fraud][v].nunique() \n",
    "    print '   number of %s: %i %.2f%% had fraud' %(v, n, 100.0 * n_w_fraud / n)"
   ]
  },
  {
   "cell_type": "markdown",
   "metadata": {
    "collapsed": true
   },
   "source": [
    "### features currently used"
   ]
  },
  {
   "cell_type": "code",
   "execution_count": 50,
   "metadata": {
    "collapsed": false
   },
   "outputs": [
    {
     "name": "stdout",
     "output_type": "stream",
     "text": [
      "20\n"
     ]
    }
   ],
   "source": [
    "category_variables = ['channels', 'country', 'currency', 'delivery_method', \n",
    "                      'fb_published', 'has_analytics', 'has_header', \n",
    "                      'has_logo', 'listed', 'payout_type', 'show_map', \\\n",
    "                      'user_type', 'venue_country']\n",
    "non_category_variables = ['body_length', 'num_payouts', 'sale_duration', 'sale_duration2', \n",
    "                          'user_age', 'venue_latitude', 'venue_longitude']\n",
    "print len(category_variables) + len(non_category_variables)"
   ]
  },
  {
   "cell_type": "markdown",
   "metadata": {},
   "source": [
    "## explore categorical variables"
   ]
  },
  {
   "cell_type": "code",
   "execution_count": 260,
   "metadata": {
    "collapsed": true
   },
   "outputs": [],
   "source": [
    "\n",
    "df = train_df2\n",
    "\n",
    "def plot_cat_var(df, catx_names, y_name):\n",
    "    fig, axs = plt.subplots(2, len(catx_names), figsize=(10,6))\n",
    "\n",
    "\n",
    "    for i, cat in enumerate(catx_names):\n",
    "        avg_pos = df.groupby(cat)[y_name].mean()\n",
    "        avg_pos.plot(kind='bar', ax=axs[0,i], color='r', alpha = 0.5)\n",
    "        cnt = df.groupby(cat)[y_name].sum()\n",
    "        cnt.plot(kind='bar', ax=axs[1,i])\n",
    "    plt.tight_layout()\n",
    "    plt.suptitle('%Fraud and Total Counts')\n",
    "    plt.show()"
   ]
  },
  {
   "cell_type": "code",
   "execution_count": 263,
   "metadata": {
    "collapsed": false
   },
   "outputs": [
    {
     "data": {
      "image/png": "[encoded data removed]",
      "text/plain": [
       "<matplotlib.figure.Figure at 0x1be28fe90>"
      ]
     },
     "metadata": {},
     "output_type": "display_data"
    }
   ],
   "source": [
    "catx_names = ['channels',  'currency', 'delivery_method','has_logo', 'country']\n",
    "plot_cat_var(df, catx_names, y_name)"
   ]
  },
  {
   "cell_type": "code",
   "execution_count": 262,
   "metadata": {
    "collapsed": false
   },
   "outputs": [
    {
     "data": {
      "image/png": "[encoded data removed]",
      "text/plain": [
       "<matplotlib.figure.Figure at 0x1bb938f50>"
      ]
     },
     "metadata": {},
     "output_type": "display_data"
    }
   ],
   "source": [
    "plot_cat_var(df, [ 'payout_type', 'show_map', \\\n",
    "                      'user_type', 'venue_country'], y_name)"
   ]
  },
  {
   "cell_type": "markdown",
   "metadata": {},
   "source": [
    "### explore numerical variables"
   ]
  },
  {
   "cell_type": "code",
   "execution_count": 251,
   "metadata": {
    "collapsed": false
   },
   "outputs": [
    {
     "data": {
      "image/png": "[encoded data removed]",
      "text/plain": [
       "<matplotlib.figure.Figure at 0x1adb6b950>"
      ]
     },
     "metadata": {},
     "output_type": "display_data"
    }
   ],
   "source": [
    "fig, axs = plt.subplots(1,len(non_category_variables), figsize=(15,7))\n",
    "axs_ld = axs.flatten()\n",
    "for i in xrange(len(non_category_variables)):\n",
    "    c = non_category_variables[i]\n",
    "    df[[c]].boxplot(return_type = 'axes', ax = axs_ld[i])\n",
    "plt.show()"
   ]
  },
  {
   "cell_type": "code",
   "execution_count": 243,
   "metadata": {
    "collapsed": false
   },
   "outputs": [
    {
     "data": {
      "image/png": "[encoded data removed]",
      "text/plain": [
       "<matplotlib.figure.Figure at 0x1bbba4910>"
      ]
     },
     "metadata": {},
     "output_type": "display_data"
    }
   ],
   "source": [
    "numx_names = non_category_variables\n",
    "\n",
    "mask = df[y_name] == True\n",
    "mask2 = df[y_name] == False\n",
    "fig, axs = plt.subplots(2,4, figsize=(15,7))\n",
    "axs_lst = axs.flatten()\n",
    "for i, xname in enumerate(numx_names):\n",
    "    df[mask][xname].hist(alpha = 0.5, normed = True, ax = axs_lst[i], label='fraud',color='r')\n",
    "    df[mask2][xname].hist(alpha = 0.5, normed = True, ax = axs_lst[i], label='not fraud', color='b')\n",
    "    axs_lst[i].set_xlabel(xname)\n",
    "plt.tight_layout()\n",
    "plt.legend()"
   ]
  },
  {
   "cell_type": "code",
   "execution_count": 245,
   "metadata": {
    "collapsed": false
   },
   "outputs": [
    {
     "data": {
      "text/plain": [
       "((13044, 45), (1293, 45))"
      ]
     },
     "execution_count": 245,
     "metadata": {},
     "output_type": "execute_result"
    }
   ],
   "source": [
    "df[mask2].shape, df[mask].shape"
   ]
  },
  {
   "cell_type": "code",
   "execution_count": 17,
   "metadata": {
    "collapsed": false
   },
   "outputs": [],
   "source": [
    "train_df3 = train_df2[['fraud'] + non_category_variables]\n",
    "for feature in category_variables:\n",
    "    dummy_df = pd.get_dummies(train_df2[feature], prefix =feature, dummy_na=True)\n",
    "    dummy_df.drop(dummy_df.columns[:1], axis=1, inplace=True)\n",
    "    train_df3 = pd.concat([train_df3, dummy_df], axis=1)\n",
    "# Dropping na's\n",
    "train_df3 = train_df3.dropna()"
   ]
  },
  {
   "cell_type": "markdown",
   "metadata": {},
   "source": [
    "### explore Missing Values"
   ]
  },
  {
   "cell_type": "code",
   "execution_count": 58,
   "metadata": {
    "collapsed": true
   },
   "outputs": [],
   "source": [
    "# Dropping na's\n",
    "train_df3 = train_df3.dropna()"
   ]
  },
  {
   "cell_type": "code",
   "execution_count": 96,
   "metadata": {
    "collapsed": false
   },
   "outputs": [
    {
     "name": "stdout",
     "output_type": "stream",
     "text": [
      "(14337, 45) after NA: (13197, 191)\n",
      "dropped 7.95% data\n"
     ]
    }
   ],
   "source": [
    "print train_df2.shape, 'after NA:', train_df3.shape\n",
    "print 'dropped %.2f%% data' % ( 100 - 100.0* train_df3.shape[0]/train_df2.shape[0])"
   ]
  },
  {
   "cell_type": "code",
   "execution_count": 85,
   "metadata": {
    "collapsed": true
   },
   "outputs": [],
   "source": [
    "cond_kept = train_df2.index.isin(list(train_df3.index))"
   ]
  },
  {
   "cell_type": "code",
   "execution_count": 86,
   "metadata": {
    "collapsed": false
   },
   "outputs": [
    {
     "data": {
      "text/plain": [
       "False    740\n",
       "True     400\n",
       "dtype: int64"
      ]
     },
     "execution_count": 86,
     "metadata": {},
     "output_type": "execute_result"
    }
   ],
   "source": [
    "pd.value_counts(train_df2[-cond_kept][y_name])"
   ]
  },
  {
   "cell_type": "code",
   "execution_count": 97,
   "metadata": {
    "collapsed": false
   },
   "outputs": [
    {
     "data": {
      "text/plain": [
       "False    12304\n",
       "True       893\n",
       "dtype: int64"
      ]
     },
     "execution_count": 97,
     "metadata": {},
     "output_type": "execute_result"
    }
   ],
   "source": [
    "pd.value_counts(train_df2[cond_kept][y_name])"
   ]
  },
  {
   "cell_type": "code",
   "execution_count": 87,
   "metadata": {
    "collapsed": false
   },
   "outputs": [
    {
     "data": {
      "text/html": [
       "<div style=\"max-height:1000px;max-width:1500px;overflow:auto;\">\n",
       "<table border=\"1\" class=\"dataframe\">\n",
       "  <thead>\n",
       "    <tr style=\"text-align: right;\">\n",
       "      <th></th>\n",
       "      <th>3</th>\n",
       "      <th>33</th>\n",
       "      <th>48</th>\n",
       "    </tr>\n",
       "  </thead>\n",
       "  <tbody>\n",
       "    <tr>\n",
       "      <th>body_length</th>\n",
       "      <td>12347</td>\n",
       "      <td>4847</td>\n",
       "      <td>617</td>\n",
       "    </tr>\n",
       "    <tr>\n",
       "      <th>num_payouts</th>\n",
       "      <td>16</td>\n",
       "      <td>0</td>\n",
       "      <td>1</td>\n",
       "    </tr>\n",
       "    <tr>\n",
       "      <th>sale_duration</th>\n",
       "      <td>0</td>\n",
       "      <td>47</td>\n",
       "      <td>49</td>\n",
       "    </tr>\n",
       "    <tr>\n",
       "      <th>sale_duration2</th>\n",
       "      <td>0</td>\n",
       "      <td>70</td>\n",
       "      <td>49</td>\n",
       "    </tr>\n",
       "    <tr>\n",
       "      <th>user_age</th>\n",
       "      <td>889</td>\n",
       "      <td>91</td>\n",
       "      <td>848</td>\n",
       "    </tr>\n",
       "    <tr>\n",
       "      <th>venue_latitude</th>\n",
       "      <td>NaN</td>\n",
       "      <td>NaN</td>\n",
       "      <td>NaN</td>\n",
       "    </tr>\n",
       "    <tr>\n",
       "      <th>venue_longitude</th>\n",
       "      <td>NaN</td>\n",
       "      <td>NaN</td>\n",
       "      <td>NaN</td>\n",
       "    </tr>\n",
       "  </tbody>\n",
       "</table>\n",
       "</div>"
      ],
      "text/plain": [
       "                    3     33   48\n",
       "body_length      12347  4847  617\n",
       "num_payouts         16     0    1\n",
       "sale_duration        0    47   49\n",
       "sale_duration2       0    70   49\n",
       "user_age           889    91  848\n",
       "venue_latitude     NaN   NaN  NaN\n",
       "venue_longitude    NaN   NaN  NaN"
      ]
     },
     "execution_count": 87,
     "metadata": {},
     "output_type": "execute_result"
    }
   ],
   "source": [
    "train_df2[- cond_kept][non_category_variables].head(3).T"
   ]
  },
  {
   "cell_type": "code",
   "execution_count": 88,
   "metadata": {
    "collapsed": false
   },
   "outputs": [
    {
     "data": {
      "text/html": [
       "<div style=\"max-height:1000px;max-width:1500px;overflow:auto;\">\n",
       "<table border=\"1\" class=\"dataframe\">\n",
       "  <thead>\n",
       "    <tr style=\"text-align: right;\">\n",
       "      <th></th>\n",
       "      <th>count</th>\n",
       "      <th>mean</th>\n",
       "      <th>std</th>\n",
       "      <th>min</th>\n",
       "      <th>25%</th>\n",
       "      <th>50%</th>\n",
       "      <th>75%</th>\n",
       "      <th>max</th>\n",
       "    </tr>\n",
       "  </thead>\n",
       "  <tbody>\n",
       "    <tr>\n",
       "      <th>channels</th>\n",
       "      <td>1140</td>\n",
       "      <td>3.618421</td>\n",
       "      <td>4.205541</td>\n",
       "      <td>0</td>\n",
       "      <td>0</td>\n",
       "      <td>0</td>\n",
       "      <td>8</td>\n",
       "      <td>13</td>\n",
       "    </tr>\n",
       "    <tr>\n",
       "      <th>delivery_method</th>\n",
       "      <td>1130</td>\n",
       "      <td>0.275221</td>\n",
       "      <td>0.464322</td>\n",
       "      <td>0</td>\n",
       "      <td>0</td>\n",
       "      <td>0</td>\n",
       "      <td>1</td>\n",
       "      <td>3</td>\n",
       "    </tr>\n",
       "    <tr>\n",
       "      <th>fb_published</th>\n",
       "      <td>1140</td>\n",
       "      <td>0.012281</td>\n",
       "      <td>0.110184</td>\n",
       "      <td>0</td>\n",
       "      <td>0</td>\n",
       "      <td>0</td>\n",
       "      <td>0</td>\n",
       "      <td>1</td>\n",
       "    </tr>\n",
       "    <tr>\n",
       "      <th>has_analytics</th>\n",
       "      <td>1140</td>\n",
       "      <td>0.042105</td>\n",
       "      <td>0.200917</td>\n",
       "      <td>0</td>\n",
       "      <td>0</td>\n",
       "      <td>0</td>\n",
       "      <td>0</td>\n",
       "      <td>1</td>\n",
       "    </tr>\n",
       "    <tr>\n",
       "      <th>has_header</th>\n",
       "      <td>616</td>\n",
       "      <td>0.134740</td>\n",
       "      <td>0.341723</td>\n",
       "      <td>0</td>\n",
       "      <td>0</td>\n",
       "      <td>0</td>\n",
       "      <td>0</td>\n",
       "      <td>1</td>\n",
       "    </tr>\n",
       "    <tr>\n",
       "      <th>has_logo</th>\n",
       "      <td>1140</td>\n",
       "      <td>0.632456</td>\n",
       "      <td>0.482348</td>\n",
       "      <td>0</td>\n",
       "      <td>0</td>\n",
       "      <td>1</td>\n",
       "      <td>1</td>\n",
       "      <td>1</td>\n",
       "    </tr>\n",
       "    <tr>\n",
       "      <th>show_map</th>\n",
       "      <td>1140</td>\n",
       "      <td>0.386842</td>\n",
       "      <td>0.487241</td>\n",
       "      <td>0</td>\n",
       "      <td>0</td>\n",
       "      <td>0</td>\n",
       "      <td>1</td>\n",
       "      <td>1</td>\n",
       "    </tr>\n",
       "    <tr>\n",
       "      <th>user_type</th>\n",
       "      <td>1140</td>\n",
       "      <td>2.385088</td>\n",
       "      <td>1.202115</td>\n",
       "      <td>1</td>\n",
       "      <td>1</td>\n",
       "      <td>3</td>\n",
       "      <td>3</td>\n",
       "      <td>5</td>\n",
       "    </tr>\n",
       "  </tbody>\n",
       "</table>\n",
       "</div>"
      ],
      "text/plain": [
       "                 count      mean       std  min  25%  50%  75%  max\n",
       "channels          1140  3.618421  4.205541    0    0    0    8   13\n",
       "delivery_method   1130  0.275221  0.464322    0    0    0    1    3\n",
       "fb_published      1140  0.012281  0.110184    0    0    0    0    1\n",
       "has_analytics     1140  0.042105  0.200917    0    0    0    0    1\n",
       "has_header         616  0.134740  0.341723    0    0    0    0    1\n",
       "has_logo          1140  0.632456  0.482348    0    0    1    1    1\n",
       "show_map          1140  0.386842  0.487241    0    0    0    1    1\n",
       "user_type         1140  2.385088  1.202115    1    1    3    3    5"
      ]
     },
     "execution_count": 88,
     "metadata": {},
     "output_type": "execute_result"
    }
   ],
   "source": [
    "train_df2[- cond_kept][category_variables].describe().T"
   ]
  },
  {
   "cell_type": "code",
   "execution_count": 90,
   "metadata": {
    "collapsed": false
   },
   "outputs": [
    {
     "data": {
      "text/html": [
       "<div style=\"max-height:1000px;max-width:1500px;overflow:auto;\">\n",
       "<table border=\"1\" class=\"dataframe\">\n",
       "  <thead>\n",
       "    <tr style=\"text-align: right;\">\n",
       "      <th></th>\n",
       "      <th>count</th>\n",
       "      <th>mean</th>\n",
       "      <th>std</th>\n",
       "      <th>min</th>\n",
       "      <th>25%</th>\n",
       "      <th>50%</th>\n",
       "      <th>75%</th>\n",
       "      <th>max</th>\n",
       "    </tr>\n",
       "  </thead>\n",
       "  <tbody>\n",
       "    <tr>\n",
       "      <th>body_length</th>\n",
       "      <td>1140</td>\n",
       "      <td>2669.134211</td>\n",
       "      <td>6915.407271</td>\n",
       "      <td>0.000000</td>\n",
       "      <td>0.000000</td>\n",
       "      <td>316.000000</td>\n",
       "      <td>2563.750000</td>\n",
       "      <td>60300.000000</td>\n",
       "    </tr>\n",
       "    <tr>\n",
       "      <th>num_payouts</th>\n",
       "      <td>1140</td>\n",
       "      <td>34.898246</td>\n",
       "      <td>136.138216</td>\n",
       "      <td>0.000000</td>\n",
       "      <td>0.000000</td>\n",
       "      <td>1.000000</td>\n",
       "      <td>11.000000</td>\n",
       "      <td>1145.000000</td>\n",
       "    </tr>\n",
       "    <tr>\n",
       "      <th>sale_duration</th>\n",
       "      <td>985</td>\n",
       "      <td>27.387817</td>\n",
       "      <td>63.388480</td>\n",
       "      <td>-1094.000000</td>\n",
       "      <td>1.000000</td>\n",
       "      <td>10.000000</td>\n",
       "      <td>38.000000</td>\n",
       "      <td>611.000000</td>\n",
       "    </tr>\n",
       "    <tr>\n",
       "      <th>sale_duration2</th>\n",
       "      <td>1140</td>\n",
       "      <td>30.632456</td>\n",
       "      <td>61.789448</td>\n",
       "      <td>-1094.000000</td>\n",
       "      <td>1.000000</td>\n",
       "      <td>17.000000</td>\n",
       "      <td>40.000000</td>\n",
       "      <td>611.000000</td>\n",
       "    </tr>\n",
       "    <tr>\n",
       "      <th>user_age</th>\n",
       "      <td>1140</td>\n",
       "      <td>298.516667</td>\n",
       "      <td>392.071770</td>\n",
       "      <td>0.000000</td>\n",
       "      <td>1.750000</td>\n",
       "      <td>112.500000</td>\n",
       "      <td>487.250000</td>\n",
       "      <td>2911.000000</td>\n",
       "    </tr>\n",
       "    <tr>\n",
       "      <th>venue_latitude</th>\n",
       "      <td>64</td>\n",
       "      <td>38.123189</td>\n",
       "      <td>16.934896</td>\n",
       "      <td>-37.813742</td>\n",
       "      <td>38.020650</td>\n",
       "      <td>40.744947</td>\n",
       "      <td>51.500010</td>\n",
       "      <td>56.392734</td>\n",
       "    </tr>\n",
       "    <tr>\n",
       "      <th>venue_longitude</th>\n",
       "      <td>64</td>\n",
       "      <td>-51.160959</td>\n",
       "      <td>48.123146</td>\n",
       "      <td>-122.342484</td>\n",
       "      <td>-79.371279</td>\n",
       "      <td>-73.988806</td>\n",
       "      <td>-0.116698</td>\n",
       "      <td>144.968309</td>\n",
       "    </tr>\n",
       "  </tbody>\n",
       "</table>\n",
       "</div>"
      ],
      "text/plain": [
       "                 count         mean          std          min        25%  \\\n",
       "body_length       1140  2669.134211  6915.407271     0.000000   0.000000   \n",
       "num_payouts       1140    34.898246   136.138216     0.000000   0.000000   \n",
       "sale_duration      985    27.387817    63.388480 -1094.000000   1.000000   \n",
       "sale_duration2    1140    30.632456    61.789448 -1094.000000   1.000000   \n",
       "user_age          1140   298.516667   392.071770     0.000000   1.750000   \n",
       "venue_latitude      64    38.123189    16.934896   -37.813742  38.020650   \n",
       "venue_longitude     64   -51.160959    48.123146  -122.342484 -79.371279   \n",
       "\n",
       "                        50%          75%           max  \n",
       "body_length      316.000000  2563.750000  60300.000000  \n",
       "num_payouts        1.000000    11.000000   1145.000000  \n",
       "sale_duration     10.000000    38.000000    611.000000  \n",
       "sale_duration2    17.000000    40.000000    611.000000  \n",
       "user_age         112.500000   487.250000   2911.000000  \n",
       "venue_latitude    40.744947    51.500010     56.392734  \n",
       "venue_longitude  -73.988806    -0.116698    144.968309  "
      ]
     },
     "execution_count": 90,
     "metadata": {},
     "output_type": "execute_result"
    }
   ],
   "source": [
    "train_df2[- cond_kept][non_category_variables].describe().T"
   ]
  },
  {
   "cell_type": "code",
   "execution_count": 89,
   "metadata": {
    "collapsed": false
   },
   "outputs": [
    {
     "data": {
      "text/html": [
       "<div style=\"max-height:1000px;max-width:1500px;overflow:auto;\">\n",
       "<table border=\"1\" class=\"dataframe\">\n",
       "  <thead>\n",
       "    <tr style=\"text-align: right;\">\n",
       "      <th></th>\n",
       "      <th>count</th>\n",
       "      <th>mean</th>\n",
       "      <th>std</th>\n",
       "      <th>min</th>\n",
       "      <th>25%</th>\n",
       "      <th>50%</th>\n",
       "      <th>75%</th>\n",
       "      <th>max</th>\n",
       "    </tr>\n",
       "  </thead>\n",
       "  <tbody>\n",
       "    <tr>\n",
       "      <th>channels</th>\n",
       "      <td>13197</td>\n",
       "      <td>6.397666</td>\n",
       "      <td>3.748164</td>\n",
       "      <td>0.000000</td>\n",
       "      <td>5.000000</td>\n",
       "      <td>6.000000</td>\n",
       "      <td>8.000000</td>\n",
       "      <td>13.000000</td>\n",
       "    </tr>\n",
       "    <tr>\n",
       "      <th>delivery_method</th>\n",
       "      <td>13191</td>\n",
       "      <td>0.453643</td>\n",
       "      <td>0.599052</td>\n",
       "      <td>0.000000</td>\n",
       "      <td>0.000000</td>\n",
       "      <td>0.000000</td>\n",
       "      <td>1.000000</td>\n",
       "      <td>3.000000</td>\n",
       "    </tr>\n",
       "    <tr>\n",
       "      <th>fb_published</th>\n",
       "      <td>13197</td>\n",
       "      <td>0.137380</td>\n",
       "      <td>0.344261</td>\n",
       "      <td>0.000000</td>\n",
       "      <td>0.000000</td>\n",
       "      <td>0.000000</td>\n",
       "      <td>0.000000</td>\n",
       "      <td>1.000000</td>\n",
       "    </tr>\n",
       "    <tr>\n",
       "      <th>has_analytics</th>\n",
       "      <td>13197</td>\n",
       "      <td>0.075699</td>\n",
       "      <td>0.264526</td>\n",
       "      <td>0.000000</td>\n",
       "      <td>0.000000</td>\n",
       "      <td>0.000000</td>\n",
       "      <td>0.000000</td>\n",
       "      <td>1.000000</td>\n",
       "    </tr>\n",
       "    <tr>\n",
       "      <th>has_header</th>\n",
       "      <td>8312</td>\n",
       "      <td>0.207050</td>\n",
       "      <td>0.405216</td>\n",
       "      <td>0.000000</td>\n",
       "      <td>0.000000</td>\n",
       "      <td>0.000000</td>\n",
       "      <td>0.000000</td>\n",
       "      <td>1.000000</td>\n",
       "    </tr>\n",
       "    <tr>\n",
       "      <th>has_logo</th>\n",
       "      <td>13197</td>\n",
       "      <td>0.860195</td>\n",
       "      <td>0.346797</td>\n",
       "      <td>0.000000</td>\n",
       "      <td>1.000000</td>\n",
       "      <td>1.000000</td>\n",
       "      <td>1.000000</td>\n",
       "      <td>1.000000</td>\n",
       "    </tr>\n",
       "    <tr>\n",
       "      <th>show_map</th>\n",
       "      <td>13197</td>\n",
       "      <td>0.883686</td>\n",
       "      <td>0.320614</td>\n",
       "      <td>0.000000</td>\n",
       "      <td>1.000000</td>\n",
       "      <td>1.000000</td>\n",
       "      <td>1.000000</td>\n",
       "      <td>1.000000</td>\n",
       "    </tr>\n",
       "    <tr>\n",
       "      <th>user_type</th>\n",
       "      <td>13197</td>\n",
       "      <td>2.739259</td>\n",
       "      <td>1.633978</td>\n",
       "      <td>1.000000</td>\n",
       "      <td>3.000000</td>\n",
       "      <td>3.000000</td>\n",
       "      <td>3.000000</td>\n",
       "      <td>103.000000</td>\n",
       "    </tr>\n",
       "    <tr>\n",
       "      <th>body_length</th>\n",
       "      <td>13197</td>\n",
       "      <td>3759.197848</td>\n",
       "      <td>5638.964552</td>\n",
       "      <td>0.000000</td>\n",
       "      <td>865.000000</td>\n",
       "      <td>2099.000000</td>\n",
       "      <td>4417.000000</td>\n",
       "      <td>65535.000000</td>\n",
       "    </tr>\n",
       "    <tr>\n",
       "      <th>num_payouts</th>\n",
       "      <td>13197</td>\n",
       "      <td>33.654391</td>\n",
       "      <td>124.191883</td>\n",
       "      <td>0.000000</td>\n",
       "      <td>0.000000</td>\n",
       "      <td>2.000000</td>\n",
       "      <td>13.000000</td>\n",
       "      <td>1858.000000</td>\n",
       "    </tr>\n",
       "    <tr>\n",
       "      <th>sale_duration</th>\n",
       "      <td>13197</td>\n",
       "      <td>48.323786</td>\n",
       "      <td>53.852637</td>\n",
       "      <td>-143.000000</td>\n",
       "      <td>17.000000</td>\n",
       "      <td>33.000000</td>\n",
       "      <td>60.000000</td>\n",
       "      <td>980.000000</td>\n",
       "    </tr>\n",
       "    <tr>\n",
       "      <th>sale_duration2</th>\n",
       "      <td>13197</td>\n",
       "      <td>52.299614</td>\n",
       "      <td>59.180030</td>\n",
       "      <td>-86.000000</td>\n",
       "      <td>19.000000</td>\n",
       "      <td>36.000000</td>\n",
       "      <td>65.000000</td>\n",
       "      <td>980.000000</td>\n",
       "    </tr>\n",
       "    <tr>\n",
       "      <th>user_age</th>\n",
       "      <td>13197</td>\n",
       "      <td>380.766614</td>\n",
       "      <td>420.180573</td>\n",
       "      <td>0.000000</td>\n",
       "      <td>15.000000</td>\n",
       "      <td>253.000000</td>\n",
       "      <td>612.000000</td>\n",
       "      <td>3794.000000</td>\n",
       "    </tr>\n",
       "    <tr>\n",
       "      <th>venue_latitude</th>\n",
       "      <td>13197</td>\n",
       "      <td>35.207665</td>\n",
       "      <td>20.221693</td>\n",
       "      <td>-45.045208</td>\n",
       "      <td>33.956639</td>\n",
       "      <td>39.966059</td>\n",
       "      <td>44.855991</td>\n",
       "      <td>64.844022</td>\n",
       "    </tr>\n",
       "    <tr>\n",
       "      <th>venue_longitude</th>\n",
       "      <td>13197</td>\n",
       "      <td>-59.530763</td>\n",
       "      <td>66.644836</td>\n",
       "      <td>-159.390183</td>\n",
       "      <td>-97.043945</td>\n",
       "      <td>-79.429899</td>\n",
       "      <td>-3.190298</td>\n",
       "      <td>176.169492</td>\n",
       "    </tr>\n",
       "  </tbody>\n",
       "</table>\n",
       "</div>"
      ],
      "text/plain": [
       "                 count         mean          std         min         25%  \\\n",
       "channels         13197     6.397666     3.748164    0.000000    5.000000   \n",
       "delivery_method  13191     0.453643     0.599052    0.000000    0.000000   \n",
       "fb_published     13197     0.137380     0.344261    0.000000    0.000000   \n",
       "has_analytics    13197     0.075699     0.264526    0.000000    0.000000   \n",
       "has_header        8312     0.207050     0.405216    0.000000    0.000000   \n",
       "has_logo         13197     0.860195     0.346797    0.000000    1.000000   \n",
       "show_map         13197     0.883686     0.320614    0.000000    1.000000   \n",
       "user_type        13197     2.739259     1.633978    1.000000    3.000000   \n",
       "body_length      13197  3759.197848  5638.964552    0.000000  865.000000   \n",
       "num_payouts      13197    33.654391   124.191883    0.000000    0.000000   \n",
       "sale_duration    13197    48.323786    53.852637 -143.000000   17.000000   \n",
       "sale_duration2   13197    52.299614    59.180030  -86.000000   19.000000   \n",
       "user_age         13197   380.766614   420.180573    0.000000   15.000000   \n",
       "venue_latitude   13197    35.207665    20.221693  -45.045208   33.956639   \n",
       "venue_longitude  13197   -59.530763    66.644836 -159.390183  -97.043945   \n",
       "\n",
       "                         50%          75%           max  \n",
       "channels            6.000000     8.000000     13.000000  \n",
       "delivery_method     0.000000     1.000000      3.000000  \n",
       "fb_published        0.000000     0.000000      1.000000  \n",
       "has_analytics       0.000000     0.000000      1.000000  \n",
       "has_header          0.000000     0.000000      1.000000  \n",
       "has_logo            1.000000     1.000000      1.000000  \n",
       "show_map            1.000000     1.000000      1.000000  \n",
       "user_type           3.000000     3.000000    103.000000  \n",
       "body_length      2099.000000  4417.000000  65535.000000  \n",
       "num_payouts         2.000000    13.000000   1858.000000  \n",
       "sale_duration      33.000000    60.000000    980.000000  \n",
       "sale_duration2     36.000000    65.000000    980.000000  \n",
       "user_age          253.000000   612.000000   3794.000000  \n",
       "venue_latitude     39.966059    44.855991     64.844022  \n",
       "venue_longitude   -79.429899    -3.190298    176.169492  "
      ]
     },
     "execution_count": 89,
     "metadata": {},
     "output_type": "execute_result"
    }
   ],
   "source": [
    "train_df2[cond_kept][category_variables + non_category_variables].describe().T"
   ]
  },
  {
   "cell_type": "code",
   "execution_count": 63,
   "metadata": {
    "collapsed": false
   },
   "outputs": [
    {
     "data": {
      "text/plain": [
       "False    12304\n",
       "True       893\n",
       "dtype: int64"
      ]
     },
     "execution_count": 63,
     "metadata": {},
     "output_type": "execute_result"
    }
   ],
   "source": [
    "pd.value_counts(train_df2[cond_kept][y_name])"
   ]
  },
  {
   "cell_type": "code",
   "execution_count": 98,
   "metadata": {
    "collapsed": false
   },
   "outputs": [
    {
     "data": {
      "text/plain": [
       "premium             12373\n",
       "fraudster_event       851\n",
       "fraudster             437\n",
       "spammer_limited       218\n",
       "spammer_warn          144\n",
       "tos_warn               91\n",
       "spammer_noinvite       84\n",
       "tos_lock               77\n",
       "locked                 54\n",
       "fraudster_att           5\n",
       "spammer_web             2\n",
       "spammer                 1\n",
       "dtype: int64"
      ]
     },
     "execution_count": 98,
     "metadata": {},
     "output_type": "execute_result"
    }
   ],
   "source": [
    "pd.value_counts(train_df2.acct_type)"
   ]
  },
  {
   "cell_type": "code",
   "execution_count": 99,
   "metadata": {
    "collapsed": false
   },
   "outputs": [
    {
     "data": {
      "text/plain": [
       "0     True\n",
       "1    False\n",
       "2    False\n",
       "3    False\n",
       "4    False\n",
       "Name: fraud, dtype: bool"
      ]
     },
     "execution_count": 99,
     "metadata": {},
     "output_type": "execute_result"
    }
   ],
   "source": [
    "train_df2['fraud'].head()"
   ]
  },
  {
   "cell_type": "markdown",
   "metadata": {},
   "source": [
    "### feature importance"
   ]
  },
  {
   "cell_type": "code",
   "execution_count": 19,
   "metadata": {
    "collapsed": false
   },
   "outputs": [],
   "source": [
    "# getting X & y for the train set\n",
    "y = np.array(train_df3.fraud)\n",
    "X = train_df3.drop(['fraud'], axis=1).values"
   ]
  },
  {
   "cell_type": "code",
   "execution_count": 55,
   "metadata": {
    "collapsed": false
   },
   "outputs": [],
   "source": [
    "feature_names = train_df3.columns[1:]\n",
    "y_name = 'fraud'\n",
    "#print feature_names"
   ]
  },
  {
   "cell_type": "code",
   "execution_count": 21,
   "metadata": {
    "collapsed": false
   },
   "outputs": [],
   "source": [
    "# Using the random forest to find out the feature importances.\n",
    "rf = RandomForestClassifier(n_estimators=100, oob_score=True)"
   ]
  },
  {
   "cell_type": "code",
   "execution_count": 22,
   "metadata": {
    "collapsed": false
   },
   "outputs": [],
   "source": [
    "rf = rf.fit(X, y)"
   ]
  },
  {
   "cell_type": "code",
   "execution_count": 23,
   "metadata": {
    "collapsed": false
   },
   "outputs": [
    {
     "data": {
      "text/plain": [
       "Index([u'sale_duration2', u'sale_duration', u'user_age', u'body_length', u'venue_longitude', u'venue_latitude', u'num_payouts', u'payout_type_ACH', u'payout_type_CHECK', u'user_type_3.0'], dtype='object')"
      ]
     },
     "execution_count": 23,
     "metadata": {},
     "output_type": "execute_result"
    }
   ],
   "source": [
    "feature_names[np.argsort(rf.feature_importances_)[::-1]][:10]"
   ]
  },
  {
   "cell_type": "code",
   "execution_count": 38,
   "metadata": {
    "collapsed": false
   },
   "outputs": [
    {
     "data": {
      "text/plain": [
       "190"
      ]
     },
     "execution_count": 38,
     "metadata": {},
     "output_type": "execute_result"
    }
   ],
   "source": [
    "len(feature_names)"
   ]
  },
  {
   "cell_type": "code",
   "execution_count": 41,
   "metadata": {
    "collapsed": false
   },
   "outputs": [
    {
     "data": {
      "text/plain": [
       "array([ 0.18171947,  0.16905349,  0.10262116,  0.06492819,  0.05862069,\n",
       "        0.05477051,  0.05451729,  0.0374991 ,  0.02547588,  0.02293755,\n",
       "        0.02175938,  0.0132344 ,  0.01246519,  0.01174063,  0.0087612 ,\n",
       "        0.00820341,  0.00820178,  0.00819389,  0.00725646,  0.00718293,\n",
       "        0.00666445,  0.00658548,  0.00637972,  0.00625165,  0.00606532,\n",
       "        0.00599759,  0.00587649,  0.00580828,  0.00577229,  0.00499129,\n",
       "        0.00490946,  0.00326148,  0.00325447,  0.0029622 ,  0.00292172,\n",
       "        0.0025512 ,  0.00254467,  0.00251498,  0.00234306,  0.00213167,\n",
       "        0.00212826,  0.00193234,  0.0018361 ,  0.00181787,  0.00176725,\n",
       "        0.00166418,  0.00146795,  0.00124257,  0.00106813,  0.00099989])"
      ]
     },
     "execution_count": 41,
     "metadata": {},
     "output_type": "execute_result"
    }
   ],
   "source": [
    "importances[sorted_idx]"
   ]
  },
  {
   "cell_type": "code",
   "execution_count": 79,
   "metadata": {
    "collapsed": false
   },
   "outputs": [
    {
     "data": {
      "text/plain": [
       "<matplotlib.figure.Figure at 0x1ad132350>"
      ]
     },
     "metadata": {},
     "output_type": "display_data"
    }
   ],
   "source": []
  },
  {
   "cell_type": "code",
   "execution_count": 80,
   "metadata": {
    "collapsed": false
   },
   "outputs": [
    {
     "data": {
      "text/plain": [
       "[]"
      ]
     },
     "execution_count": 80,
     "metadata": {},
     "output_type": "execute_result"
    },
    {
     "data": {
      "image/png": "[encoded data removed]",
      "text/plain": [
       "<matplotlib.figure.Figure at 0x1ac39fe10>"
      ]
     },
     "metadata": {},
     "output_type": "display_data"
    }
   ],
   "source": [
    "topk = 25\n",
    "plt.figure(figsize=(50,70))\n",
    "importances = rf.feature_importances_\n",
    "sorted_idx = np.argsort(-1.0* importances)[:topk]\n",
    "padding = np.arange(len(sorted_idx)) + 0.5\n",
    "plt.barh(padding, importances[sorted_idx], align='center')\n",
    "plt.tick_params(axis='y', which='major', labelsize=10)\n",
    "plt.yticks(padding, feature_names[sorted_idx])\n",
    "plt.plot()"
   ]
  },
  {
   "cell_type": "code",
   "execution_count": 40,
   "metadata": {
    "collapsed": false
   },
   "outputs": [
    {
     "data": {
      "text/plain": [
       "0.064928193680148794"
      ]
     },
     "execution_count": 40,
     "metadata": {},
     "output_type": "execute_result"
    }
   ],
   "source": [
    "importances[0]"
   ]
  },
  {
   "cell_type": "code",
   "execution_count": 24,
   "metadata": {
    "collapsed": false
   },
   "outputs": [
    {
     "data": {
      "text/plain": [
       "0.9762824884443434"
      ]
     },
     "execution_count": 24,
     "metadata": {},
     "output_type": "execute_result"
    }
   ],
   "source": [
    "rf = rf.fit(X, y)\n",
    "rf.oob_score_"
   ]
  },
  {
   "cell_type": "code",
   "execution_count": 275,
   "metadata": {
    "collapsed": true
   },
   "outputs": [],
   "source": [
    "def modify_train(train_df2, non_category_variables, category_variables):\n",
    "    train_df3 = train_df2[['fraud'] + non_category_variables]\n",
    "\n",
    "    for feature in category_variables:\n",
    "        dummy_df = pd.get_dummies(train_df2[feature], prefix =feature, dummy_na=True)\n",
    "        dummy_df.drop(dummy_df.columns[:1], axis=1, inplace=True)\n",
    "        train_df3 = pd.concat([train_df3, dummy_df], axis=1)\n",
    "    # Dropping na's\n",
    "    train_df3 = train_df3.dropna()\n",
    "    \n",
    "    return train_df3"
   ]
  },
  {
   "cell_type": "code",
   "execution_count": 274,
   "metadata": {
    "collapsed": false
   },
   "outputs": [
    {
     "data": {
      "text/plain": [
       "Index([u'fraud', u'body_length', u'num_payouts', u'sale_duration', u'sale_duration2', u'user_age'], dtype='object')"
      ]
     },
     "execution_count": 274,
     "metadata": {},
     "output_type": "execute_result"
    }
   ],
   "source": [
    "train_df3.columns"
   ]
  },
  {
   "cell_type": "markdown",
   "metadata": {},
   "source": [
    "## model evaluation"
   ]
  },
  {
   "cell_type": "code",
   "execution_count": 277,
   "metadata": {
    "collapsed": false
   },
   "outputs": [],
   "source": [
    "#train_df3 = train_df2[['fraud'] + non_category_variables]\n",
    "category_variables = ['channels', 'country', 'currency', 'delivery_method', \n",
    "                      'fb_published', 'has_analytics', 'has_header', \n",
    "                      'has_logo', 'listed', 'payout_type', 'show_map', \\\n",
    "                      'user_type', 'venue_country']\n",
    "non_category_variables = ['body_length', 'num_payouts', 'sale_duration', 'sale_duration2', \n",
    "                          'user_age'] #, 'venue_latitude', 'venue_longitude']\n",
    "\n",
    "\n",
    "from sklearn.cross_validation import train_test_split\n",
    "\n",
    "train_df3 = modify_train(train_df2, non_category_variables, category_variables)\n",
    "\n",
    "y = np.array(train_df3.fraud)\n",
    "#X = train_df3.drop(['fraud'], axis=1).values\n",
    "#X = train_df3[non_category_variables ]\n",
    "\n",
    "X = train_df3.drop(['fraud'], axis=1).values\n",
    "train_X, test_X, train_y, test_y = train_test_split(X, \\\n",
    "                                                    y, test_size=0.25)\n",
    "rf = RandomForestClassifier(n_estimators=100, oob_score=True)\n",
    "rf = rf.fit(train_X, train_y)\n",
    "test_y_pred_prob = rf.predict_proba(test_X)[:,1] \n",
    "test_y_pred = rf.predict(test_X) "
   ]
  },
  {
   "cell_type": "code",
   "execution_count": 278,
   "metadata": {
    "collapsed": false
   },
   "outputs": [
    {
     "name": "stdout",
     "output_type": "stream",
     "text": [
      "confusion_matrix: \n",
      "[[3244   19]\n",
      " [  61  222]]\n",
      "accuracy:  0.977439368302\n",
      "precision:  0.921161825726\n",
      "recall:  0.78445229682\n"
     ]
    }
   ],
   "source": [
    "from sklearn.metrics import roc_curve, auc, classification_report\n",
    "from sklearn.metrics import accuracy_score, precision_score, recall_score\n",
    "\n",
    "print 'confusion_matrix: \\n', confusion_matrix(test_y, test_y_pred)\n",
    "print 'accuracy: ', accuracy_score(test_y, test_y_pred) \n",
    "print 'precision: ', precision_score(test_y, test_y_pred, average='binary')\n",
    "print 'recall: ', recall_score(test_y, test_y_pred)"
   ]
  },
  {
   "cell_type": "code",
   "execution_count": 282,
   "metadata": {
    "collapsed": false
   },
   "outputs": [
    {
     "data": {
      "text/plain": [
       "[]"
      ]
     },
     "execution_count": 282,
     "metadata": {},
     "output_type": "execute_result"
    },
    {
     "data": {
      "image/png": "[encoded data removed]",
      "text/plain": [
       "<matplotlib.figure.Figure at 0x1acc27390>"
      ]
     },
     "metadata": {},
     "output_type": "display_data"
    }
   ],
   "source": [
    "topk = 25\n",
    "plt.figure(figsize=(15,10))\n",
    "importances = rf.feature_importances_\n",
    "sorted_idx = np.argsort(-1.0* importances)[:topk]\n",
    "padding = np.arange(len(sorted_idx)) + 0.5\n",
    "plt.barh(padding, importances[sorted_idx], align='center')\n",
    "plt.tick_params(axis='y', which='major', labelsize=10)\n",
    "plt.yticks(padding, feature_names[sorted_idx])\n",
    "plt.plot()"
   ]
  },
  {
   "cell_type": "markdown",
   "metadata": {},
   "source": [
    "## test out different models"
   ]
  },
  {
   "cell_type": "code",
   "execution_count": 293,
   "metadata": {
    "collapsed": true
   },
   "outputs": [],
   "source": [
    "# compare 3 classification methods:\n",
    "from sklearn.cross_validation import cross_val_score\n",
    "from sklearn import linear_model\n",
    "from sklearn.ensemble import RandomForestClassifier, AdaBoostClassifier\n",
    "from sklearn.neighbors import KNeighborsClassifier\n",
    "from sklearn.svm import SVC\n",
    "\n",
    "from sklearn.preprocessing import StandardScaler\n",
    "\n",
    "from sklearn.neighbors import KNeighborsClassifier\n",
    "from sklearn.svm import SVC\n",
    "from sklearn.tree import DecisionTreeClassifier\n",
    "from sklearn.ensemble import RandomForestClassifier, AdaBoostClassifier\n",
    "from sklearn.naive_bayes import GaussianNB\n",
    "from sklearn.lda import LDA\n",
    "from sklearn.qda import QDA\n",
    "from sklearn.ensemble import GradientBoostingClassifier"
   ]
  },
  {
   "cell_type": "code",
   "execution_count": null,
   "metadata": {
    "collapsed": true
   },
   "outputs": [],
   "source": [
    "estimators = [\\\n",
    "            DecisionTreeClassifier(max_depth=5) ]#,\n",
    " '''\n",
    "            RandomForestClassifier( n_estimators=100),\n",
    "            RandomForestClassifier(max_depth=5, n_estimators=10, max_features=1),\n",
    "            linear_model.LogisticRegression(),\n",
    "            linear_model.LogisticRegression(c=0.1),\n",
    "            KNeighborsClassifier(5),\n",
    "            AdaBoostClassifier(),\n",
    "            clf = GradientBoostingClassifier() ,\n",
    "            KNeighborsClassifier(3),\n",
    "            GaussianNB(),\n",
    "            LDA(),\n",
    "            QDA(),\n",
    "            SVC(kernel=\"linear\", C=0.025)\n",
    "'''\n",
    "#    ]"
   ]
  },
  {
   "cell_type": "code",
   "execution_count": 295,
   "metadata": {
    "collapsed": false
   },
   "outputs": [
    {
     "name": "stdout",
     "output_type": "stream",
     "text": [
      "Score for GradientBoostingClassifier:  0.970\n",
      "Score for DecisionTreeClassifier:  0.958\n",
      "Score for RandomForestClassifier:  0.972\n",
      "Score for RandomForestClassifier:  0.917\n",
      "Score for AdaBoostClassifier:  0.964\n",
      "Score for LogisticRegression:  0.954\n",
      "Score for LogisticRegression:  0.953\n",
      "Score for KNeighborsClassifier:  0.954\n",
      "Score for GaussianNB:  0.242\n",
      "Score for LDA:  0.930\n",
      "Score for QDA:  0.253\n",
      "Score for SVC:  0.944\n"
     ]
    }
   ],
   "source": [
    "estimators = [GradientBoostingClassifier() ,\n",
    "              DecisionTreeClassifier(max_depth=5),\n",
    "             RandomForestClassifier( n_estimators=100),\n",
    "              RandomForestClassifier(max_depth=5, n_estimators=300, max_features=1),\n",
    "                            AdaBoostClassifier(), \n",
    "              \n",
    "              linear_model.LogisticRegression(),\n",
    "              linear_model.LogisticRegression(C=0.1),\n",
    "              \n",
    "              KNeighborsClassifier(5),\n",
    "             \n",
    "              GaussianNB(),\n",
    "              LDA(),\n",
    "              QDA(),\n",
    "              \n",
    "              SVC(kernel=\"linear\", C=0.025),\n",
    "             ]\n",
    "X = StandardScaler().fit_transform(X)\n",
    "for estimator in estimators:\n",
    "    try:\n",
    "        score = cross_val_score(estimator, X, y, cv = 10).mean()\n",
    "        print(\"Score for %s:  %.3f\" % (estimator.__class__.__name__, score))\n",
    "    except:\n",
    "        pass\n",
    "    \n",
    "train_y_pred_lst = []\n",
    "test_y_pred_1st = []\n",
    "estimators_fitted = []\n",
    "\n",
    "train_X, test_X, train_y, test_y = train_test_split(X, \\\n",
    "                                                    y, test_size=0.25)\n",
    "for estimator in estimators:\n",
    "    try:\n",
    "        estimator = estimator.fit(train_X, train_y)\n",
    "        estimators_fitted.append(estimator)\n",
    "        train_y_pred_lst.append(estimator.fit(train_X))\n",
    "        test_y_pred_lst.append(estimator.fit(test_X))\n",
    "        print '\\n model: %s'  %(estimator.__class__.__name__)\n",
    "        print 'confusion_matrix: \\n', confusion_matrix(test_y, test_y_pred)\n",
    "        print 'accuracy: ', accuracy_score(test_y, test_y_pred) \n",
    "        print 'precision: ', precision_score(test_y, test_y_pred, average='binary')\n",
    "        print 'recall: ', recall_score(test_y, test_y_pred)\n",
    "    except:\n",
    "        pass"
   ]
  },
  {
   "cell_type": "code",
   "execution_count": 303,
   "metadata": {
    "collapsed": false
   },
   "outputs": [
    {
     "name": "stdout",
     "output_type": "stream",
     "text": [
      "\n",
      " model: DecisionTreeClassifier\n",
      "confusion_matrix: \n",
      "[[3177   59]\n",
      " [  82  228]]\n",
      "accuracy:  0.960236886633\n",
      "precision:  0.794425087108\n",
      "recall:  0.735483870968\n",
      "\n",
      " model: RandomForestClassifier\n",
      "confusion_matrix: \n",
      "[[3211   25]\n",
      " [  70  240]]\n",
      "accuracy:  0.973209249859\n",
      "precision:  0.905660377358\n",
      "recall:  0.774193548387\n",
      "\n",
      " model: RandomForestClassifier\n",
      "confusion_matrix: \n",
      "[[3235    1]\n",
      " [ 252   58]]\n",
      "accuracy:  0.928652002256\n",
      "precision:  0.983050847458\n",
      "recall:  0.187096774194\n",
      "\n",
      " model: AdaBoostClassifier\n",
      "confusion_matrix: \n",
      "[[3198   38]\n",
      " [  93  217]]\n",
      "accuracy:  0.963056965595\n",
      "precision:  0.850980392157\n",
      "recall:  0.7\n",
      "\n",
      " model: GradientBoostingClassifier\n",
      "confusion_matrix: \n",
      "[[3204   32]\n",
      " [  73  237]]\n",
      "accuracy:  0.970389170897\n",
      "precision:  0.881040892193\n",
      "recall:  0.764516129032\n",
      "\n",
      " model: LogisticRegression\n",
      "confusion_matrix: \n",
      "[[3206   30]\n",
      " [ 142  168]]\n",
      "accuracy:  0.95149464185\n",
      "precision:  0.848484848485\n",
      "recall:  0.541935483871\n",
      "\n",
      " model: LogisticRegression\n",
      "confusion_matrix: \n",
      "[[3212   24]\n",
      " [ 157  153]]\n",
      "accuracy:  0.948956570784\n",
      "precision:  0.864406779661\n",
      "recall:  0.493548387097\n",
      "\n",
      " model: KNeighborsClassifier\n",
      "confusion_matrix: \n",
      "[[3176   60]\n",
      " [ 109  201]]\n",
      "accuracy:  0.952340665539\n",
      "precision:  0.770114942529\n",
      "recall:  0.648387096774\n",
      "\n",
      " model: GaussianNB\n",
      "confusion_matrix: \n",
      "[[ 691 2545]\n",
      " [   4  306]]\n",
      "accuracy:  0.281161872532\n",
      "precision:  0.107330761136\n",
      "recall:  0.987096774194\n",
      "\n",
      " model: LDA\n",
      "confusion_matrix: \n",
      "[[3219   17]\n",
      " [ 197  113]]\n",
      "accuracy:  0.939650310209\n",
      "precision:  0.869230769231\n",
      "recall:  0.364516129032\n",
      "\n",
      " model: QDA\n",
      "confusion_matrix: \n",
      "[[ 767 2469]\n",
      " [   2  308]]\n",
      "accuracy:  0.303158488438\n",
      "precision:  0.110911055095\n",
      "recall:  0.993548387097\n",
      "\n",
      " model: SVC\n",
      "confusion_matrix: \n",
      "[[3216   20]\n",
      " [ 191  119]]\n",
      "accuracy:  0.940496333897\n",
      "precision:  0.856115107914\n",
      "recall:  0.383870967742\n"
     ]
    }
   ],
   "source": [
    "estimators = [\n",
    "              DecisionTreeClassifier(max_depth=5)  ,\n",
    "\n",
    "             RandomForestClassifier( n_estimators=100),\n",
    "\n",
    "              RandomForestClassifier(max_depth=5, n_estimators=300),\n",
    "                            AdaBoostClassifier(), \n",
    "              \n",
    "    GradientBoostingClassifier() ,\n",
    "    \n",
    "              linear_model.LogisticRegression(),\n",
    "              linear_model.LogisticRegression(C=0.1),\n",
    "              \n",
    "              KNeighborsClassifier(5),\n",
    "             \n",
    "              GaussianNB(),\n",
    "              LDA(),\n",
    "              QDA(),\n",
    "              \n",
    "              SVC(kernel=\"linear\", C=0.025),\n",
    "             ]\n",
    "\n",
    "train_y_pred_lst = []\n",
    "test_y_pred_lst = []\n",
    "estimators_fitted = []\n",
    "\n",
    "train_X, test_X, train_y, test_y = train_test_split(X, \\\n",
    "                                                    y, test_size=0.25)\n",
    "for i, estimator in enumerate(estimators):\n",
    "\n",
    "    estimator = estimator.fit(train_X, train_y)\n",
    "    estimators_fitted.append(estimator)\n",
    "    train_y_pred_lst.append(estimator.predict(train_X))\n",
    "    test_y_pred_lst.append(estimator.predict(test_X))\n",
    "    print '\\n model: %s'  %(estimator.__class__.__name__)\n",
    "    print 'confusion_matrix: \\n', confusion_matrix(test_y, test_y_pred_lst[i])\n",
    "    print 'accuracy: ', accuracy_score(test_y, test_y_pred_lst[i]) \n",
    "    print 'precision: ', precision_score(test_y, test_y_pred_lst[i], average='binary')\n",
    "    print 'recall: ', recall_score(test_y, test_y_pred_lst[i])\n"
   ]
  },
  {
   "cell_type": "code",
   "execution_count": 133,
   "metadata": {
    "collapsed": false
   },
   "outputs": [
    {
     "data": {
      "image/png": "[encoded data removed]",
      "text/plain": [
       "<matplotlib.figure.Figure at 0x1ac136dd0>"
      ]
     },
     "metadata": {},
     "output_type": "display_data"
    }
   ],
   "source": [
    "plt.hist(test_y_pred_prob[:,1], bins = 50)\n",
    "plt.show()"
   ]
  },
  {
   "cell_type": "code",
   "execution_count": null,
   "metadata": {
    "collapsed": true
   },
   "outputs": [],
   "source": []
  },
  {
   "cell_type": "code",
   "execution_count": 237,
   "metadata": {
    "collapsed": false
   },
   "outputs": [],
   "source": [
    "def confusion_rates2(cm):\n",
    "    [[tn, fp], [fn, tp]] = cm\n",
    "\n",
    "    N = fp + tn\n",
    "    P = tp + fn\n",
    "\n",
    "    tpr = tp / P\n",
    "    fpr = fp / N\n",
    "    fnr = fn / P\n",
    "    tnr = tn / N\n",
    "\n",
    "    return np.array([[tpr, fpr], [fnr, tnr]])\n",
    "\n",
    "\n",
    "def profit_curve2(y_actual, y_pred_lst, cb): \n",
    "    pos = np.sum(y_actual == 1) / len(y_actual)\n",
    "    neg = 1 - pos\n",
    "    class_probs = np.array([pos, neg])\n",
    "    \n",
    "    tmp = []\n",
    "    for probabilities  in y_pred_lst:\n",
    "        indicies = np.argsort(probabilities)[::-1]\n",
    "\n",
    "        profit = []\n",
    "        for i in xrange(len(indicies)):\n",
    "            pred_false = indicies[i:]\n",
    "            y_predict = np.ones(len(indicies))\n",
    "            y_predict[pred_false] = 0\n",
    "            rates = confusion_rates2(confusion_matrix(y_actual, y_predict))\n",
    "            profit.append(np.sum(class_probs * rates * cb))\n",
    "            \n",
    "        print max(profit)\n",
    "        i_max_profit2 = np.argmax(profit)\n",
    "        probs = np.array(probabilities)\n",
    "        print '%i max profit: %.2f  cutoff: %.2f ' % (i_max_profit2, profit[i_max_profit2], probs[i_max_profit2])\n",
    "        percentages = np.arange(len(indicies)) / len(indicies) * 100\n",
    "        plt.plot(percentages, profit, label= 'label')\n",
    "        tmp.append([percentages, profit])\n",
    "\n",
    "    plt.legend(loc=\"lower right\")\n",
    "    plt.title(\"Profits of classifiers\")\n",
    "    plt.xlabel(\"Percentage of test instances (decreasing by score)\")\n",
    "    plt.ylabel(\"Profit\")\n",
    "    #plt.ylim(20)\n",
    "    plt.show()\n",
    "    return tmp\n",
    "\n"
   ]
  },
  {
   "cell_type": "code",
   "execution_count": 208,
   "metadata": {
    "collapsed": true
   },
   "outputs": [],
   "source": [
    "def confusion_matrix_fixed(cm):\n",
    "    [[tn, fp], [fn, tp]] = cm\n",
    "    #[[tn,fp],[fn,tp]]\n",
    "    return np.array([[tp, fp], [fn, tn]])"
   ]
  },
  {
   "cell_type": "code",
   "execution_count": 236,
   "metadata": {
    "collapsed": false
   },
   "outputs": [
    {
     "name": "stdout",
     "output_type": "stream",
     "text": [
      "-0.404545454545\n",
      "253 max profit: -0.40  cutoff: 0.02 \n"
     ]
    },
    {
     "ename": "NameError",
     "evalue": "global name 'precentages' is not defined",
     "output_type": "error",
     "traceback": [
      "\u001b[0;31m---------------------------------------------------------------------------\u001b[0m",
      "\u001b[0;31mNameError\u001b[0m                                 Traceback (most recent call last)",
      "\u001b[0;32m<ipython-input-236-7a927f1f958c>\u001b[0m in \u001b[0;36m<module>\u001b[0;34m()\u001b[0m\n\u001b[1;32m      3\u001b[0m \u001b[0;31m# cost - benefit matrix\u001b[0m\u001b[0;34m\u001b[0m\u001b[0;34m\u001b[0m\u001b[0m\n\u001b[1;32m      4\u001b[0m \u001b[0mcb\u001b[0m \u001b[0;34m=\u001b[0m \u001b[0mnp\u001b[0m\u001b[0;34m.\u001b[0m\u001b[0marray\u001b[0m\u001b[0;34m(\u001b[0m\u001b[0;34m[\u001b[0m\u001b[0;34m[\u001b[0m\u001b[0;36m0\u001b[0m\u001b[0;34m,\u001b[0m \u001b[0mavg_cost_fp\u001b[0m\u001b[0;34m]\u001b[0m\u001b[0;34m,\u001b[0m\u001b[0;34m[\u001b[0m\u001b[0mavg_loss_per_fraud\u001b[0m\u001b[0;34m,\u001b[0m \u001b[0;36m0\u001b[0m\u001b[0;34m]\u001b[0m\u001b[0;34m]\u001b[0m\u001b[0;34m)\u001b[0m\u001b[0;34m\u001b[0m\u001b[0m\n\u001b[0;32m----> 5\u001b[0;31m \u001b[0mtmp2\u001b[0m \u001b[0;34m=\u001b[0m \u001b[0mprofit_curve2\u001b[0m\u001b[0;34m(\u001b[0m \u001b[0mtest_y\u001b[0m\u001b[0;34m,\u001b[0m \u001b[0;34m[\u001b[0m\u001b[0mtest_y_pred_prob\u001b[0m\u001b[0;34m]\u001b[0m\u001b[0;34m,\u001b[0m\u001b[0mcb\u001b[0m\u001b[0;34m)\u001b[0m\u001b[0;34m\u001b[0m\u001b[0m\n\u001b[0m\u001b[1;32m      6\u001b[0m \u001b[0mplt\u001b[0m\u001b[0;34m.\u001b[0m\u001b[0mshow\u001b[0m\u001b[0;34m(\u001b[0m\u001b[0;34m)\u001b[0m\u001b[0;34m\u001b[0m\u001b[0m\n",
      "\u001b[0;32m<ipython-input-235-17102c9d1720>\u001b[0m in \u001b[0;36mprofit_curve2\u001b[0;34m(y_actual, y_pred_lst, cb)\u001b[0m\n\u001b[1;32m     35\u001b[0m         \u001b[0mpercentages\u001b[0m \u001b[0;34m=\u001b[0m \u001b[0mnp\u001b[0m\u001b[0;34m.\u001b[0m\u001b[0marange\u001b[0m\u001b[0;34m(\u001b[0m\u001b[0mlen\u001b[0m\u001b[0;34m(\u001b[0m\u001b[0mindicies\u001b[0m\u001b[0;34m)\u001b[0m\u001b[0;34m)\u001b[0m \u001b[0;34m/\u001b[0m \u001b[0mlen\u001b[0m\u001b[0;34m(\u001b[0m\u001b[0mindicies\u001b[0m\u001b[0;34m)\u001b[0m \u001b[0;34m*\u001b[0m \u001b[0;36m100\u001b[0m\u001b[0;34m\u001b[0m\u001b[0m\n\u001b[1;32m     36\u001b[0m         \u001b[0mplt\u001b[0m\u001b[0;34m.\u001b[0m\u001b[0mplot\u001b[0m\u001b[0;34m(\u001b[0m\u001b[0mpercentages\u001b[0m\u001b[0;34m,\u001b[0m \u001b[0mprofit\u001b[0m\u001b[0;34m,\u001b[0m \u001b[0mlabel\u001b[0m\u001b[0;34m=\u001b[0m \u001b[0;34m'label'\u001b[0m\u001b[0;34m)\u001b[0m\u001b[0;34m\u001b[0m\u001b[0m\n\u001b[0;32m---> 37\u001b[0;31m         \u001b[0mtmp\u001b[0m\u001b[0;34m.\u001b[0m\u001b[0mappend\u001b[0m\u001b[0;34m(\u001b[0m\u001b[0;34m[\u001b[0m\u001b[0mprecentages\u001b[0m\u001b[0;34m,\u001b[0m \u001b[0mprofit\u001b[0m\u001b[0;34m]\u001b[0m\u001b[0;34m)\u001b[0m\u001b[0;34m\u001b[0m\u001b[0m\n\u001b[0m\u001b[1;32m     38\u001b[0m \u001b[0;34m\u001b[0m\u001b[0m\n\u001b[1;32m     39\u001b[0m     \u001b[0mplt\u001b[0m\u001b[0;34m.\u001b[0m\u001b[0mlegend\u001b[0m\u001b[0;34m(\u001b[0m\u001b[0mloc\u001b[0m\u001b[0;34m=\u001b[0m\u001b[0;34m\"lower right\"\u001b[0m\u001b[0;34m)\u001b[0m\u001b[0;34m\u001b[0m\u001b[0m\n",
      "\u001b[0;31mNameError\u001b[0m: global name 'precentages' is not defined"
     ]
    },
    {
     "data": {
      "image/png": "[encoded data removed]",
      "text/plain": [
       "<matplotlib.figure.Figure at 0x1ac363d90>"
      ]
     },
     "metadata": {},
     "output_type": "display_data"
    }
   ],
   "source": [
    "avg_loss_per_fraud = -20  # false negative\n",
    "avg_cost_fp = -5  # false positive\n",
    "# cost - benefit matrix\n",
    "cb = np.array([[0, avg_cost_fp],[avg_loss_per_fraud, 0]])\n",
    "tmp2 = profit_curve2( test_y, [test_y_pred_prob],cb)\n",
    "plt.show()"
   ]
  },
  {
   "cell_type": "code",
   "execution_count": 234,
   "metadata": {
    "collapsed": false
   },
   "outputs": [
    {
     "ename": "TypeError",
     "evalue": "'NoneType' object has no attribute '__getitem__'",
     "output_type": "error",
     "traceback": [
      "\u001b[0;31m---------------------------------------------------------------------------\u001b[0m",
      "\u001b[0;31mTypeError\u001b[0m                                 Traceback (most recent call last)",
      "\u001b[0;32m<ipython-input-234-bfa1f9b565d5>\u001b[0m in \u001b[0;36m<module>\u001b[0;34m()\u001b[0m\n\u001b[0;32m----> 1\u001b[0;31m \u001b[0;32mprint\u001b[0m \u001b[0mlen\u001b[0m\u001b[0;34m(\u001b[0m\u001b[0mtmp2\u001b[0m\u001b[0;34m[\u001b[0m\u001b[0;36m0\u001b[0m\u001b[0;34m]\u001b[0m\u001b[0;34m[\u001b[0m\u001b[0;36m0\u001b[0m\u001b[0;34m]\u001b[0m\u001b[0;34m)\u001b[0m\u001b[0;34m,\u001b[0m \u001b[0mmax\u001b[0m\u001b[0;34m(\u001b[0m\u001b[0mtmp2\u001b[0m\u001b[0;34m[\u001b[0m\u001b[0;36m0\u001b[0m\u001b[0;34m]\u001b[0m\u001b[0;34m[\u001b[0m\u001b[0;36m0\u001b[0m\u001b[0;34m]\u001b[0m\u001b[0;34m)\u001b[0m\u001b[0;34m\u001b[0m\u001b[0m\n\u001b[0m\u001b[1;32m      2\u001b[0m \u001b[0;32mprint\u001b[0m \u001b[0mlen\u001b[0m\u001b[0;34m(\u001b[0m\u001b[0mtmp2\u001b[0m\u001b[0;34m[\u001b[0m\u001b[0;36m0\u001b[0m\u001b[0;34m]\u001b[0m\u001b[0;34m[\u001b[0m\u001b[0;36m1\u001b[0m\u001b[0;34m]\u001b[0m\u001b[0;34m)\u001b[0m\u001b[0;34m,\u001b[0m \u001b[0mmax\u001b[0m\u001b[0;34m(\u001b[0m\u001b[0mtmp2\u001b[0m\u001b[0;34m[\u001b[0m\u001b[0;36m0\u001b[0m\u001b[0;34m]\u001b[0m\u001b[0;34m[\u001b[0m\u001b[0;36m1\u001b[0m\u001b[0;34m]\u001b[0m\u001b[0;34m)\u001b[0m\u001b[0;34m\u001b[0m\u001b[0m\n",
      "\u001b[0;31mTypeError\u001b[0m: 'NoneType' object has no attribute '__getitem__'"
     ]
    }
   ],
   "source": [
    "print len(tmp2[0][0]), max(tmp2[0][0])\n",
    "print len(tmp2[0][1]), max(tmp2[0][1])"
   ]
  },
  {
   "cell_type": "code",
   "execution_count": 229,
   "metadata": {
    "collapsed": false
   },
   "outputs": [
    {
     "name": "stdout",
     "output_type": "stream",
     "text": [
      "1358\n",
      "3300\n",
      "[ 0.  0.  0.  0.  0.  0.  0.  0.  0.  0.]\n"
     ]
    }
   ],
   "source": [
    "cutoff = 0.02\n",
    "indicies = np.argsort(test_y_pred_prob)[::-1]\n",
    "print sum(np.array(test_y_pred_prob) >0)\n",
    "print len(test_y_pred_prob)\n",
    "print test_y_pred_prob[indicies[3290:3305]]\n",
    "\n",
    "def exp_profit(y_actual, y_pred, cb):\n",
    "    pos = np.sum(y_actual == 1) / len(y_actual)\n",
    "    neg = 1 - pos\n",
    "    class_probs = np.array([pos, neg])    \n",
    "    rates = confusion_rates2(confusion_matrix(y_actual, y_predict))\n",
    "    return (np.sum(class_probs * rates * cb))"
   ]
  },
  {
   "cell_type": "code",
   "execution_count": 170,
   "metadata": {
    "collapsed": false
   },
   "outputs": [],
   "source": [
    "indicies = np.argsort(test_y_pred_prob)"
   ]
  },
  {
   "cell_type": "code",
   "execution_count": 114,
   "metadata": {
    "collapsed": false
   },
   "outputs": [
    {
     "data": {
      "text/plain": [
       "False    12304\n",
       "True       893\n",
       "dtype: int64"
      ]
     },
     "execution_count": 114,
     "metadata": {},
     "output_type": "execute_result"
    }
   ],
   "source": [
    "pd.value_counts(test_y_pred)"
   ]
  },
  {
   "cell_type": "code",
   "execution_count": 155,
   "metadata": {
    "collapsed": false
   },
   "outputs": [
    {
     "data": {
      "text/plain": [
       "-0.556060606060606"
      ]
     },
     "execution_count": 155,
     "metadata": {},
     "output_type": "execute_result"
    }
   ],
   "source": [
    "1.0 * ( 85 * (-20) + (27 * (-5))) / 3300"
   ]
  },
  {
   "cell_type": "code",
   "execution_count": 210,
   "metadata": {
    "collapsed": false
   },
   "outputs": [
    {
     "name": "stdout",
     "output_type": "stream",
     "text": [
      "[[3039   25]\n",
      " [  95  141]]\n",
      "[[ 141   25]\n",
      " [  95 3039]]\n"
     ]
    }
   ],
   "source": [
    "from sklearn.metrics import confusion_matrix\n",
    "print confusion_matrix(test_y, test_y_pred)\n",
    "print confusion_matrix_fixed(confusion_matrix(test_y, test_y_pred))"
   ]
  },
  {
   "cell_type": "code",
   "execution_count": 214,
   "metadata": {
    "collapsed": false
   },
   "outputs": [
    {
     "name": "stdout",
     "output_type": "stream",
     "text": [
      "236 3064 3300\n"
     ]
    }
   ],
   "source": [
    "print 141+95, 25+3039, 236+3064"
   ]
  },
  {
   "cell_type": "code",
   "execution_count": 215,
   "metadata": {
    "collapsed": false
   },
   "outputs": [
    {
     "name": "stdout",
     "output_type": "stream",
     "text": [
      "-1.4303030303 -4.6\n"
     ]
    }
   ],
   "source": [
    "print 236* (-20) / 3300,  3036* (-5) / 3300"
   ]
  },
  {
   "cell_type": "code",
   "execution_count": 209,
   "metadata": {
    "collapsed": false
   },
   "outputs": [
    {
     "name": "stdout",
     "output_type": "stream",
     "text": [
      "[[ 0.59745763  0.00815927]\n",
      " [ 0.40254237  0.99184073]]\n",
      "[[ 0.59745763  0.00815927]\n",
      " [ 0.40254237  0.99184073]]\n"
     ]
    }
   ],
   "source": [
    "from __future__ import division\n",
    "print confusion_rates(confusion_matrix(test_y, test_y_pred))\n",
    "print confusion_rates2(confusion_matrix(test_y, test_y_pred))"
   ]
  },
  {
   "cell_type": "code",
   "execution_count": 47,
   "metadata": {
    "collapsed": false
   },
   "outputs": [
    {
     "data": {
      "text/html": [
       "<div style=\"max-height:1000px;max-width:1500px;overflow:auto;\">\n",
       "<table border=\"1\" class=\"dataframe\">\n",
       "  <thead>\n",
       "    <tr style=\"text-align: right;\">\n",
       "      <th></th>\n",
       "      <th>0</th>\n",
       "      <th>1</th>\n",
       "    </tr>\n",
       "  </thead>\n",
       "  <tbody>\n",
       "    <tr>\n",
       "      <th>acct_type</th>\n",
       "      <td>premium</td>\n",
       "      <td>premium</td>\n",
       "    </tr>\n",
       "    <tr>\n",
       "      <th>approx_payout_date</th>\n",
       "      <td>1364342400</td>\n",
       "      <td>1366081200</td>\n",
       "    </tr>\n",
       "    <tr>\n",
       "      <th>body_length</th>\n",
       "      <td>12207</td>\n",
       "      <td>2287</td>\n",
       "    </tr>\n",
       "    <tr>\n",
       "      <th>channels</th>\n",
       "      <td>11</td>\n",
       "      <td>8</td>\n",
       "    </tr>\n",
       "    <tr>\n",
       "      <th>country</th>\n",
       "      <td>US</td>\n",
       "      <td>US</td>\n",
       "    </tr>\n",
       "    <tr>\n",
       "      <th>currency</th>\n",
       "      <td>USD</td>\n",
       "      <td>USD</td>\n",
       "    </tr>\n",
       "    <tr>\n",
       "      <th>delivery_method</th>\n",
       "      <td>0</td>\n",
       "      <td>1</td>\n",
       "    </tr>\n",
       "    <tr>\n",
       "      <th>description</th>\n",
       "      <td>&lt;p class=\"MsoPlainText\" style=\"margin: 0in 0in...</td>\n",
       "      <td>&lt;h1&gt;&lt;span style=\"color: #f27c60;\"&gt;Office Desig...</td>\n",
       "    </tr>\n",
       "    <tr>\n",
       "      <th>email_domain</th>\n",
       "      <td>outlook.com</td>\n",
       "      <td>betamore.com</td>\n",
       "    </tr>\n",
       "    <tr>\n",
       "      <th>event_created</th>\n",
       "      <td>1360961816</td>\n",
       "      <td>1360959297</td>\n",
       "    </tr>\n",
       "    <tr>\n",
       "      <th>event_end</th>\n",
       "      <td>1363910400</td>\n",
       "      <td>1365649200</td>\n",
       "    </tr>\n",
       "    <tr>\n",
       "      <th>event_published</th>\n",
       "      <td>1.361134e+09</td>\n",
       "      <td>1.361551e+09</td>\n",
       "    </tr>\n",
       "    <tr>\n",
       "      <th>event_start</th>\n",
       "      <td>1363881600</td>\n",
       "      <td>1365642000</td>\n",
       "    </tr>\n",
       "    <tr>\n",
       "      <th>fb_published</th>\n",
       "      <td>0</td>\n",
       "      <td>0</td>\n",
       "    </tr>\n",
       "    <tr>\n",
       "      <th>gts</th>\n",
       "      <td>3794.15</td>\n",
       "      <td>270</td>\n",
       "    </tr>\n",
       "    <tr>\n",
       "      <th>has_analytics</th>\n",
       "      <td>1</td>\n",
       "      <td>0</td>\n",
       "    </tr>\n",
       "    <tr>\n",
       "      <th>has_header</th>\n",
       "      <td>0</td>\n",
       "      <td>0</td>\n",
       "    </tr>\n",
       "    <tr>\n",
       "      <th>has_logo</th>\n",
       "      <td>1</td>\n",
       "      <td>1</td>\n",
       "    </tr>\n",
       "    <tr>\n",
       "      <th>listed</th>\n",
       "      <td>y</td>\n",
       "      <td>y</td>\n",
       "    </tr>\n",
       "    <tr>\n",
       "      <th>name</th>\n",
       "      <td>2013 MIT Business in Gaming Conference</td>\n",
       "      <td>Office Design</td>\n",
       "    </tr>\n",
       "    <tr>\n",
       "      <th>name_length</th>\n",
       "      <td>38</td>\n",
       "      <td>13</td>\n",
       "    </tr>\n",
       "    <tr>\n",
       "      <th>num_order</th>\n",
       "      <td>70</td>\n",
       "      <td>7</td>\n",
       "    </tr>\n",
       "    <tr>\n",
       "      <th>num_payouts</th>\n",
       "      <td>0</td>\n",
       "      <td>12</td>\n",
       "    </tr>\n",
       "    <tr>\n",
       "      <th>object_id</th>\n",
       "      <td>5530494</td>\n",
       "      <td>5530816</td>\n",
       "    </tr>\n",
       "    <tr>\n",
       "      <th>org_desc</th>\n",
       "      <td>&lt;p&gt;MIT BiG is a conference that focuses on the...</td>\n",
       "      <td>&lt;p style=\"margin: 0px; padding: 0px 0px 8px; f...</td>\n",
       "    </tr>\n",
       "    <tr>\n",
       "      <th>org_facebook</th>\n",
       "      <td>16</td>\n",
       "      <td>8</td>\n",
       "    </tr>\n",
       "    <tr>\n",
       "      <th>org_name</th>\n",
       "      <td>MITBIG</td>\n",
       "      <td>Betamore</td>\n",
       "    </tr>\n",
       "    <tr>\n",
       "      <th>org_twitter</th>\n",
       "      <td>0</td>\n",
       "      <td>8</td>\n",
       "    </tr>\n",
       "    <tr>\n",
       "      <th>payee_name</th>\n",
       "      <td>MIT Sloan Business in Gaming Conference</td>\n",
       "      <td></td>\n",
       "    </tr>\n",
       "    <tr>\n",
       "      <th>payout_type</th>\n",
       "      <td>CHECK</td>\n",
       "      <td>ACH</td>\n",
       "    </tr>\n",
       "    <tr>\n",
       "      <th>previous_payouts</th>\n",
       "      <td>[{u'name': u'MIT Sloan Business in Gaming Conf...</td>\n",
       "      <td>[{u'name': u'', u'created': u'2013-01-24 03:12...</td>\n",
       "    </tr>\n",
       "    <tr>\n",
       "      <th>sale_duration</th>\n",
       "      <td>32</td>\n",
       "      <td>47</td>\n",
       "    </tr>\n",
       "    <tr>\n",
       "      <th>sale_duration2</th>\n",
       "      <td>34</td>\n",
       "      <td>54</td>\n",
       "    </tr>\n",
       "    <tr>\n",
       "      <th>show_map</th>\n",
       "      <td>1</td>\n",
       "      <td>1</td>\n",
       "    </tr>\n",
       "    <tr>\n",
       "      <th>ticket_types</th>\n",
       "      <td>[{u'event_id': 5530494, u'cost': 88.78, u'avai...</td>\n",
       "      <td>[{u'event_id': 5530816, u'cost': 27.36, u'avai...</td>\n",
       "    </tr>\n",
       "    <tr>\n",
       "      <th>user_age</th>\n",
       "      <td>0</td>\n",
       "      <td>354</td>\n",
       "    </tr>\n",
       "    <tr>\n",
       "      <th>user_created</th>\n",
       "      <td>1360957493</td>\n",
       "      <td>1330367856</td>\n",
       "    </tr>\n",
       "    <tr>\n",
       "      <th>user_type</th>\n",
       "      <td>3</td>\n",
       "      <td>3</td>\n",
       "    </tr>\n",
       "    <tr>\n",
       "      <th>venue_address</th>\n",
       "      <td>20 Ames St</td>\n",
       "      <td>1111 Light St</td>\n",
       "    </tr>\n",
       "    <tr>\n",
       "      <th>venue_country</th>\n",
       "      <td>US</td>\n",
       "      <td>US</td>\n",
       "    </tr>\n",
       "    <tr>\n",
       "      <th>venue_latitude</th>\n",
       "      <td>42.36054</td>\n",
       "      <td>39.27663</td>\n",
       "    </tr>\n",
       "    <tr>\n",
       "      <th>venue_longitude</th>\n",
       "      <td>-71.08782</td>\n",
       "      <td>-76.61227</td>\n",
       "    </tr>\n",
       "    <tr>\n",
       "      <th>venue_name</th>\n",
       "      <td>MIT Media Lab / E14</td>\n",
       "      <td></td>\n",
       "    </tr>\n",
       "    <tr>\n",
       "      <th>venue_state</th>\n",
       "      <td>MA</td>\n",
       "      <td></td>\n",
       "    </tr>\n",
       "  </tbody>\n",
       "</table>\n",
       "</div>"
      ],
      "text/plain": [
       "                                                                    0  \\\n",
       "acct_type                                                     premium   \n",
       "approx_payout_date                                         1364342400   \n",
       "body_length                                                     12207   \n",
       "channels                                                           11   \n",
       "country                                                            US   \n",
       "currency                                                          USD   \n",
       "delivery_method                                                     0   \n",
       "description         <p class=\"MsoPlainText\" style=\"margin: 0in 0in...   \n",
       "email_domain                                              outlook.com   \n",
       "event_created                                              1360961816   \n",
       "event_end                                                  1363910400   \n",
       "event_published                                          1.361134e+09   \n",
       "event_start                                                1363881600   \n",
       "fb_published                                                        0   \n",
       "gts                                                           3794.15   \n",
       "has_analytics                                                       1   \n",
       "has_header                                                          0   \n",
       "has_logo                                                            1   \n",
       "listed                                                              y   \n",
       "name                           2013 MIT Business in Gaming Conference   \n",
       "name_length                                                        38   \n",
       "num_order                                                          70   \n",
       "num_payouts                                                         0   \n",
       "object_id                                                     5530494   \n",
       "org_desc            <p>MIT BiG is a conference that focuses on the...   \n",
       "org_facebook                                                       16   \n",
       "org_name                                                       MITBIG   \n",
       "org_twitter                                                         0   \n",
       "payee_name                    MIT Sloan Business in Gaming Conference   \n",
       "payout_type                                                     CHECK   \n",
       "previous_payouts    [{u'name': u'MIT Sloan Business in Gaming Conf...   \n",
       "sale_duration                                                      32   \n",
       "sale_duration2                                                     34   \n",
       "show_map                                                            1   \n",
       "ticket_types        [{u'event_id': 5530494, u'cost': 88.78, u'avai...   \n",
       "user_age                                                            0   \n",
       "user_created                                               1360957493   \n",
       "user_type                                                           3   \n",
       "venue_address                                              20 Ames St   \n",
       "venue_country                                                      US   \n",
       "venue_latitude                                               42.36054   \n",
       "venue_longitude                                             -71.08782   \n",
       "venue_name                                        MIT Media Lab / E14   \n",
       "venue_state                                                        MA   \n",
       "\n",
       "                                                                    1  \n",
       "acct_type                                                     premium  \n",
       "approx_payout_date                                         1366081200  \n",
       "body_length                                                      2287  \n",
       "channels                                                            8  \n",
       "country                                                            US  \n",
       "currency                                                          USD  \n",
       "delivery_method                                                     1  \n",
       "description         <h1><span style=\"color: #f27c60;\">Office Desig...  \n",
       "email_domain                                             betamore.com  \n",
       "event_created                                              1360959297  \n",
       "event_end                                                  1365649200  \n",
       "event_published                                          1.361551e+09  \n",
       "event_start                                                1365642000  \n",
       "fb_published                                                        0  \n",
       "gts                                                               270  \n",
       "has_analytics                                                       0  \n",
       "has_header                                                          0  \n",
       "has_logo                                                            1  \n",
       "listed                                                              y  \n",
       "name                                                    Office Design  \n",
       "name_length                                                        13  \n",
       "num_order                                                           7  \n",
       "num_payouts                                                        12  \n",
       "object_id                                                     5530816  \n",
       "org_desc            <p style=\"margin: 0px; padding: 0px 0px 8px; f...  \n",
       "org_facebook                                                        8  \n",
       "org_name                                                     Betamore  \n",
       "org_twitter                                                         8  \n",
       "payee_name                                                             \n",
       "payout_type                                                       ACH  \n",
       "previous_payouts    [{u'name': u'', u'created': u'2013-01-24 03:12...  \n",
       "sale_duration                                                      47  \n",
       "sale_duration2                                                     54  \n",
       "show_map                                                            1  \n",
       "ticket_types        [{u'event_id': 5530816, u'cost': 27.36, u'avai...  \n",
       "user_age                                                          354  \n",
       "user_created                                               1330367856  \n",
       "user_type                                                           3  \n",
       "venue_address                                           1111 Light St  \n",
       "venue_country                                                      US  \n",
       "venue_latitude                                               39.27663  \n",
       "venue_longitude                                             -76.61227  \n",
       "venue_name                                                             \n",
       "venue_state                                                            "
      ]
     },
     "execution_count": 47,
     "metadata": {},
     "output_type": "execute_result"
    }
   ],
   "source": [
    "test_df.head(2).T"
   ]
  },
  {
   "cell_type": "code",
   "execution_count": null,
   "metadata": {
    "collapsed": true
   },
   "outputs": [],
   "source": []
  },
  {
   "cell_type": "code",
   "execution_count": 27,
   "metadata": {
    "collapsed": false
   },
   "outputs": [
    {
     "data": {
      "text/html": [
       "<div style=\"max-height:1000px;max-width:1500px;overflow:auto;\">\n",
       "<table border=\"1\" class=\"dataframe\">\n",
       "  <thead>\n",
       "    <tr style=\"text-align: right;\">\n",
       "      <th></th>\n",
       "      <th>acct_type</th>\n",
       "      <th>approx_payout_date</th>\n",
       "      <th>body_length</th>\n",
       "      <th>channels</th>\n",
       "      <th>country</th>\n",
       "      <th>currency</th>\n",
       "      <th>delivery_method</th>\n",
       "      <th>description</th>\n",
       "      <th>email_domain</th>\n",
       "      <th>event_created</th>\n",
       "      <th>...</th>\n",
       "      <th>ticket_types</th>\n",
       "      <th>user_age</th>\n",
       "      <th>user_created</th>\n",
       "      <th>user_type</th>\n",
       "      <th>venue_address</th>\n",
       "      <th>venue_country</th>\n",
       "      <th>venue_latitude</th>\n",
       "      <th>venue_longitude</th>\n",
       "      <th>venue_name</th>\n",
       "      <th>venue_state</th>\n",
       "    </tr>\n",
       "  </thead>\n",
       "  <tbody>\n",
       "    <tr>\n",
       "      <th>0</th>\n",
       "      <td>fraudster_event</td>\n",
       "      <td>1266062400</td>\n",
       "      <td>3852</td>\n",
       "      <td>5</td>\n",
       "      <td>US</td>\n",
       "      <td>USD</td>\n",
       "      <td>0</td>\n",
       "      <td>&lt;p&gt;&lt;a href=\"http://s432.photobucket.com/albums...</td>\n",
       "      <td>gmail.com</td>\n",
       "      <td>1262739706</td>\n",
       "      <td>...</td>\n",
       "      <td>[{u'event_id': 527017, u'cost': 25.0, u'availa...</td>\n",
       "      <td>36</td>\n",
       "      <td>1259613950</td>\n",
       "      <td>1</td>\n",
       "      <td>717 Washington Avenue</td>\n",
       "      <td>US</td>\n",
       "      <td>25.777471</td>\n",
       "      <td>-80.133433</td>\n",
       "      <td>INK Nightclub - South Beach</td>\n",
       "      <td>FL</td>\n",
       "    </tr>\n",
       "    <tr>\n",
       "      <th>1</th>\n",
       "      <td>premium</td>\n",
       "      <td>1296720000</td>\n",
       "      <td>3499</td>\n",
       "      <td>0</td>\n",
       "      <td>US</td>\n",
       "      <td>USD</td>\n",
       "      <td>1</td>\n",
       "      <td>&lt;p&gt;Join us for a quick, one-night, community-b...</td>\n",
       "      <td>ruf.org</td>\n",
       "      <td>1293832670</td>\n",
       "      <td>...</td>\n",
       "      <td>[{u'event_id': 786878, u'cost': 35.0, u'availa...</td>\n",
       "      <td>149</td>\n",
       "      <td>1280942776</td>\n",
       "      <td>3</td>\n",
       "      <td></td>\n",
       "      <td>US</td>\n",
       "      <td>32.776566</td>\n",
       "      <td>-79.930922</td>\n",
       "      <td>The Charleston, SC area</td>\n",
       "      <td>SC</td>\n",
       "    </tr>\n",
       "    <tr>\n",
       "      <th>2</th>\n",
       "      <td>premium</td>\n",
       "      <td>1296172800</td>\n",
       "      <td>2601</td>\n",
       "      <td>8</td>\n",
       "      <td>US</td>\n",
       "      <td>USD</td>\n",
       "      <td>1</td>\n",
       "      <td>&lt;h3&gt;&lt;span class=\"subcategory\"&gt;&lt;strong&gt;Teacher ...</td>\n",
       "      <td>pvsd.k12.ca.us</td>\n",
       "      <td>1291090956</td>\n",
       "      <td>...</td>\n",
       "      <td>[{u'event_id': 787337, u'cost': 93.51, u'avail...</td>\n",
       "      <td>214</td>\n",
       "      <td>1272559388</td>\n",
       "      <td>3</td>\n",
       "      <td>10100 Pioneer Blvd Suite 100</td>\n",
       "      <td>US</td>\n",
       "      <td>33.944201</td>\n",
       "      <td>-118.080419</td>\n",
       "      <td>Los Angeles County Office of Education</td>\n",
       "      <td>CA</td>\n",
       "    </tr>\n",
       "    <tr>\n",
       "      <th>3</th>\n",
       "      <td>premium</td>\n",
       "      <td>1388966400</td>\n",
       "      <td>12347</td>\n",
       "      <td>6</td>\n",
       "      <td>IE</td>\n",
       "      <td>EUR</td>\n",
       "      <td>1</td>\n",
       "      <td>&lt;p style=\"margin-bottom: 1.3em; padding-bottom...</td>\n",
       "      <td>irishtabletennis.com</td>\n",
       "      <td>1360681570</td>\n",
       "      <td>...</td>\n",
       "      <td>[{u'event_id': 885645, u'cost': 25.0, u'availa...</td>\n",
       "      <td>889</td>\n",
       "      <td>1283870102</td>\n",
       "      <td>3</td>\n",
       "      <td></td>\n",
       "      <td>None</td>\n",
       "      <td>NaN</td>\n",
       "      <td>NaN</td>\n",
       "      <td>None</td>\n",
       "      <td>None</td>\n",
       "    </tr>\n",
       "    <tr>\n",
       "      <th>4</th>\n",
       "      <td>premium</td>\n",
       "      <td>1297900800</td>\n",
       "      <td>2417</td>\n",
       "      <td>11</td>\n",
       "      <td>US</td>\n",
       "      <td>USD</td>\n",
       "      <td>0</td>\n",
       "      <td>&lt;p&gt;Writers and filmmakers need to understand t...</td>\n",
       "      <td>artsandbusinesscouncil.org</td>\n",
       "      <td>1291994666</td>\n",
       "      <td>...</td>\n",
       "      <td>[{u'event_id': 1114349, u'cost': 150.0, u'avai...</td>\n",
       "      <td>35</td>\n",
       "      <td>1288984065</td>\n",
       "      <td>3</td>\n",
       "      <td>One Marina Park Drive</td>\n",
       "      <td>US</td>\n",
       "      <td>42.353848</td>\n",
       "      <td>-71.044276</td>\n",
       "      <td>Fish &amp; Richardson</td>\n",
       "      <td>MA</td>\n",
       "    </tr>\n",
       "  </tbody>\n",
       "</table>\n",
       "<p>5 rows × 44 columns</p>\n",
       "</div>"
      ],
      "text/plain": [
       "         acct_type  approx_payout_date  body_length  channels country  \\\n",
       "0  fraudster_event          1266062400         3852         5      US   \n",
       "1          premium          1296720000         3499         0      US   \n",
       "2          premium          1296172800         2601         8      US   \n",
       "3          premium          1388966400        12347         6      IE   \n",
       "4          premium          1297900800         2417        11      US   \n",
       "\n",
       "  currency  delivery_method  \\\n",
       "0      USD                0   \n",
       "1      USD                1   \n",
       "2      USD                1   \n",
       "3      EUR                1   \n",
       "4      USD                0   \n",
       "\n",
       "                                         description  \\\n",
       "0  <p><a href=\"http://s432.photobucket.com/albums...   \n",
       "1  <p>Join us for a quick, one-night, community-b...   \n",
       "2  <h3><span class=\"subcategory\"><strong>Teacher ...   \n",
       "3  <p style=\"margin-bottom: 1.3em; padding-bottom...   \n",
       "4  <p>Writers and filmmakers need to understand t...   \n",
       "\n",
       "                 email_domain  event_created     ...      \\\n",
       "0                   gmail.com     1262739706     ...       \n",
       "1                     ruf.org     1293832670     ...       \n",
       "2              pvsd.k12.ca.us     1291090956     ...       \n",
       "3        irishtabletennis.com     1360681570     ...       \n",
       "4  artsandbusinesscouncil.org     1291994666     ...       \n",
       "\n",
       "                                        ticket_types  user_age  user_created  \\\n",
       "0  [{u'event_id': 527017, u'cost': 25.0, u'availa...        36    1259613950   \n",
       "1  [{u'event_id': 786878, u'cost': 35.0, u'availa...       149    1280942776   \n",
       "2  [{u'event_id': 787337, u'cost': 93.51, u'avail...       214    1272559388   \n",
       "3  [{u'event_id': 885645, u'cost': 25.0, u'availa...       889    1283870102   \n",
       "4  [{u'event_id': 1114349, u'cost': 150.0, u'avai...        35    1288984065   \n",
       "\n",
       "   user_type                 venue_address  venue_country  venue_latitude  \\\n",
       "0          1         717 Washington Avenue             US       25.777471   \n",
       "1          3                                           US       32.776566   \n",
       "2          3  10100 Pioneer Blvd Suite 100             US       33.944201   \n",
       "3          3                                         None             NaN   \n",
       "4          3        One Marina Park Drive              US       42.353848   \n",
       "\n",
       "   venue_longitude                              venue_name venue_state  \n",
       "0       -80.133433             INK Nightclub - South Beach          FL  \n",
       "1       -79.930922                 The Charleston, SC area          SC  \n",
       "2      -118.080419  Los Angeles County Office of Education          CA  \n",
       "3              NaN                                    None        None  \n",
       "4       -71.044276                       Fish & Richardson          MA  \n",
       "\n",
       "[5 rows x 44 columns]"
      ]
     },
     "execution_count": 27,
     "metadata": {},
     "output_type": "execute_result"
    }
   ],
   "source": [
    "train_df.head()"
   ]
  },
  {
   "cell_type": "code",
   "execution_count": 100,
   "metadata": {
    "collapsed": false
   },
   "outputs": [
    {
     "data": {
      "text/plain": [
       "premium             3072\n",
       "fraudster_event      196\n",
       "fraudster            131\n",
       "spammer_limited       73\n",
       "spammer_warn          37\n",
       "locked                24\n",
       "tos_warn              19\n",
       "spammer_noinvite      16\n",
       "tos_lock              16\n",
       "spammer                1\n",
       "dtype: int64"
      ]
     },
     "execution_count": 100,
     "metadata": {},
     "output_type": "execute_result"
    }
   ],
   "source": [
    "pd.value_counts(test_df.acct_type)"
   ]
  },
  {
   "cell_type": "markdown",
   "metadata": {},
   "source": [
    "model 1:\n",
    "\n",
    "`\n",
    "    confusion_matrix: \n",
    "    [[3050   19]\n",
    "     [  62  169]]\n",
    "    accuracy:  0.975454545455\n",
    "    precision:  0.898936170213\n",
    "    recall:  0.731601731602\n",
    "`\n",
    "    \n",
    "model 2 (continuous variables only)\n",
    "\n",
    "`\n",
    "    confusion_matrix: \n",
    "    [[3042   27]\n",
    "     [  85  146]]\n",
    "    accuracy:  0.966060606061\n",
    "    precision:  0.843930635838\n",
    "    recall:  0.63203463203\n",
    "`\n",
    "\n",
    "model 3 (model 1 - lattitude/longitude)  \n",
    "`\n",
    "       confusion_matrix: \n",
    "    [[3244   19]\n",
    "     [  61  222]]\n",
    "    accuracy:  0.977439368302\n",
    "    precision:  0.921161825726\n",
    "    recall:  0.78445229682\n",
    "`\n"
   ]
  },
  {
   "cell_type": "code",
   "execution_count": 211,
   "metadata": {
    "collapsed": false
   },
   "outputs": [
    {
     "name": "stdout",
     "output_type": "stream",
     "text": [
      "[[2 0]\n",
      " [1 4]]\n",
      "[[4 0]\n",
      " [1 2]]\n",
      "[[ 0.8  0. ]\n",
      " [ 0.2  1. ]]\n"
     ]
    }
   ],
   "source": [
    "# code verfication\n",
    "y_true =    [1, 1, 1, 1, 1, 0, 0]\n",
    "\n",
    "y_predict = [1, 1, 1, 1, 0, 0, 0]\n",
    "\n",
    "conf_mat = confusion_matrix(y_true, y_predict)\n",
    "print conf_mat\n",
    "print confusion_matrix_fixed(conf_mat)\n",
    "print confusion_rates(conf_mat)"
   ]
  },
  {
   "cell_type": "code",
   "execution_count": 266,
   "metadata": {
    "collapsed": false
   },
   "outputs": [
    {
     "ename": "TypeError",
     "evalue": "unsupported operand type(s) for -: 'list' and 'list'",
     "output_type": "error",
     "traceback": [
      "\u001b[0;31m---------------------------------------------------------------------------\u001b[0m",
      "\u001b[0;31mTypeError\u001b[0m                                 Traceback (most recent call last)",
      "\u001b[0;32m<ipython-input-266-4135a971ae93>\u001b[0m in \u001b[0;36m<module>\u001b[0;34m()\u001b[0m\n\u001b[0;32m----> 1\u001b[0;31m \u001b[0;34m[\u001b[0m\u001b[0;34m'a'\u001b[0m\u001b[0;34m,\u001b[0m\u001b[0;34m'b'\u001b[0m\u001b[0;34m]\u001b[0m\u001b[0;34m-\u001b[0m\u001b[0;34m[\u001b[0m\u001b[0;34m'a'\u001b[0m\u001b[0;34m]\u001b[0m\u001b[0;34m\u001b[0m\u001b[0m\n\u001b[0m",
      "\u001b[0;31mTypeError\u001b[0m: unsupported operand type(s) for -: 'list' and 'list'"
     ]
    }
   ],
   "source": [
    "['a','b']-['a']"
   ]
  },
  {
   "cell_type": "code",
   "execution_count": null,
   "metadata": {
    "collapsed": true
   },
   "outputs": [],
   "source": []
  }
 ],
 "metadata": {
  "kernelspec": {
   "display_name": "Python 2",
   "language": "python",
   "name": "python2"
  },
  "language_info": {
   "codemirror_mode": {
    "name": "ipython",
    "version": 2
   },
   "file_extension": ".py",
   "mimetype": "text/x-python",
   "name": "python",
   "nbconvert_exporter": "python",
   "pygments_lexer": "ipython2",
   "version": "2.7.10"
  }
 },
 "nbformat": 4,
 "nbformat_minor": 0
}
